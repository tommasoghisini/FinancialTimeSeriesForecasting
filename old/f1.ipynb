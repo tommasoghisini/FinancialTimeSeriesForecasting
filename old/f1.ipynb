{
 "cells": [
  {
   "cell_type": "markdown",
   "id": "mounted-farming",
   "metadata": {},
   "source": [
    "# Financial Time-Series Forecasting Challenge"
   ]
  },
  {
   "cell_type": "markdown",
   "id": "burning-chassis",
   "metadata": {},
   "source": [
    "### Data Import & Visualization"
   ]
  },
  {
   "cell_type": "code",
   "execution_count": 93,
   "id": "grand-present",
   "metadata": {
    "jupyter": {
     "outputs_hidden": true
    }
   },
   "outputs": [],
   "source": [
    "import os\n",
    "import numpy as np\n",
    "import pandas as pd\n",
    "import matplotlib.pyplot as plt"
   ]
  },
  {
   "cell_type": "markdown",
   "id": "impossible-monte",
   "metadata": {},
   "source": [
    "To make this notebook's output stable across runs"
   ]
  },
  {
   "cell_type": "code",
   "execution_count": 21,
   "id": "premium-disaster",
   "metadata": {
    "jupyter": {
     "outputs_hidden": true
    }
   },
   "outputs": [],
   "source": [
    "np.random.seed(42)"
   ]
  },
  {
   "cell_type": "markdown",
   "id": "handmade-savannah",
   "metadata": {},
   "source": [
    "Importing test and train dataset, using `os.getcwd()` to get current working directory and then finding the .csv(s) in the `data` subfolder"
   ]
  },
  {
   "cell_type": "code",
   "execution_count": 22,
   "id": "public-seller",
   "metadata": {
    "jupyter": {
     "outputs_hidden": true
    }
   },
   "outputs": [],
   "source": [
    "test = pd.read_csv(os.getcwd()+\"/data/test.csv\")\n",
    "train =pd.read_csv(os.getcwd()+\"/data/train.csv\")"
   ]
  },
  {
   "cell_type": "markdown",
   "id": "pretty-deadline",
   "metadata": {},
   "source": [
    "Using `.head()` to preview train and test datasets"
   ]
  },
  {
   "cell_type": "code",
   "execution_count": 32,
   "id": "demographic-berry",
   "metadata": {
    "jupyter": {
     "outputs_hidden": true
    },
    "scrolled": true
   },
   "outputs": [
    {
     "data": {
      "text/html": [
       "<div>\n",
       "<style scoped>\n",
       "    .dataframe tbody tr th:only-of-type {\n",
       "        vertical-align: middle;\n",
       "    }\n",
       "\n",
       "    .dataframe tbody tr th {\n",
       "        vertical-align: top;\n",
       "    }\n",
       "\n",
       "    .dataframe thead th {\n",
       "        text-align: right;\n",
       "    }\n",
       "</style>\n",
       "<table border=\"1\" class=\"dataframe\">\n",
       "  <thead>\n",
       "    <tr style=\"text-align: right;\">\n",
       "      <th></th>\n",
       "      <th>w</th>\n",
       "      <th>y</th>\n",
       "      <th>0</th>\n",
       "      <th>1</th>\n",
       "      <th>2</th>\n",
       "      <th>3</th>\n",
       "      <th>4</th>\n",
       "      <th>5</th>\n",
       "      <th>6</th>\n",
       "      <th>7</th>\n",
       "      <th>...</th>\n",
       "      <th>40</th>\n",
       "      <th>41</th>\n",
       "      <th>42</th>\n",
       "      <th>43</th>\n",
       "      <th>44</th>\n",
       "      <th>45</th>\n",
       "      <th>46</th>\n",
       "      <th>47</th>\n",
       "      <th>48</th>\n",
       "      <th>49</th>\n",
       "    </tr>\n",
       "  </thead>\n",
       "  <tbody>\n",
       "    <tr>\n",
       "      <th>0</th>\n",
       "      <td>1</td>\n",
       "      <td>0.483130</td>\n",
       "      <td>0.790980</td>\n",
       "      <td>0.702555</td>\n",
       "      <td>0.528220</td>\n",
       "      <td>0.298746</td>\n",
       "      <td>0.025488</td>\n",
       "      <td>-0.173480</td>\n",
       "      <td>-0.245290</td>\n",
       "      <td>-0.405057</td>\n",
       "      <td>...</td>\n",
       "      <td>0.954288</td>\n",
       "      <td>1.143901</td>\n",
       "      <td>1.359252</td>\n",
       "      <td>1.081061</td>\n",
       "      <td>1.364409</td>\n",
       "      <td>1.449354</td>\n",
       "      <td>1.195431</td>\n",
       "      <td>1.195992</td>\n",
       "      <td>1.165327</td>\n",
       "      <td>0.771110</td>\n",
       "    </tr>\n",
       "    <tr>\n",
       "      <th>1</th>\n",
       "      <td>1</td>\n",
       "      <td>1.135624</td>\n",
       "      <td>0.765286</td>\n",
       "      <td>0.604512</td>\n",
       "      <td>0.414197</td>\n",
       "      <td>0.241638</td>\n",
       "      <td>0.181862</td>\n",
       "      <td>-0.031920</td>\n",
       "      <td>-0.070617</td>\n",
       "      <td>-0.185980</td>\n",
       "      <td>...</td>\n",
       "      <td>0.561545</td>\n",
       "      <td>0.678086</td>\n",
       "      <td>0.848950</td>\n",
       "      <td>1.133852</td>\n",
       "      <td>1.041396</td>\n",
       "      <td>1.242806</td>\n",
       "      <td>1.248121</td>\n",
       "      <td>1.331348</td>\n",
       "      <td>1.267123</td>\n",
       "      <td>1.292718</td>\n",
       "    </tr>\n",
       "    <tr>\n",
       "      <th>2</th>\n",
       "      <td>1</td>\n",
       "      <td>0.686081</td>\n",
       "      <td>0.702834</td>\n",
       "      <td>0.637708</td>\n",
       "      <td>0.798416</td>\n",
       "      <td>0.755065</td>\n",
       "      <td>0.705225</td>\n",
       "      <td>0.535391</td>\n",
       "      <td>0.613129</td>\n",
       "      <td>0.549732</td>\n",
       "      <td>...</td>\n",
       "      <td>1.328694</td>\n",
       "      <td>1.324254</td>\n",
       "      <td>1.272889</td>\n",
       "      <td>1.074786</td>\n",
       "      <td>0.753950</td>\n",
       "      <td>0.539693</td>\n",
       "      <td>0.402041</td>\n",
       "      <td>0.442759</td>\n",
       "      <td>0.487557</td>\n",
       "      <td>0.699007</td>\n",
       "    </tr>\n",
       "    <tr>\n",
       "      <th>3</th>\n",
       "      <td>1</td>\n",
       "      <td>-1.342005</td>\n",
       "      <td>0.018378</td>\n",
       "      <td>-0.097297</td>\n",
       "      <td>-0.020850</td>\n",
       "      <td>-0.083325</td>\n",
       "      <td>-0.268512</td>\n",
       "      <td>-0.486335</td>\n",
       "      <td>-0.731130</td>\n",
       "      <td>-0.924458</td>\n",
       "      <td>...</td>\n",
       "      <td>-0.386676</td>\n",
       "      <td>-0.357946</td>\n",
       "      <td>-0.612069</td>\n",
       "      <td>-0.698063</td>\n",
       "      <td>-0.891789</td>\n",
       "      <td>-1.127624</td>\n",
       "      <td>-1.535678</td>\n",
       "      <td>-1.490786</td>\n",
       "      <td>-1.856840</td>\n",
       "      <td>-1.441472</td>\n",
       "    </tr>\n",
       "    <tr>\n",
       "      <th>4</th>\n",
       "      <td>1</td>\n",
       "      <td>-0.241418</td>\n",
       "      <td>0.463120</td>\n",
       "      <td>0.665307</td>\n",
       "      <td>0.446953</td>\n",
       "      <td>0.480780</td>\n",
       "      <td>0.392500</td>\n",
       "      <td>0.309231</td>\n",
       "      <td>0.158462</td>\n",
       "      <td>0.190963</td>\n",
       "      <td>...</td>\n",
       "      <td>-0.174944</td>\n",
       "      <td>-0.529541</td>\n",
       "      <td>-0.191921</td>\n",
       "      <td>-0.258093</td>\n",
       "      <td>-0.542403</td>\n",
       "      <td>-0.414866</td>\n",
       "      <td>-0.485580</td>\n",
       "      <td>-0.768820</td>\n",
       "      <td>-0.662573</td>\n",
       "      <td>-0.211837</td>\n",
       "    </tr>\n",
       "  </tbody>\n",
       "</table>\n",
       "<p>5 rows × 52 columns</p>\n",
       "</div>"
      ],
      "text/plain": [
       "   w         y         0         1         2         3         4         5  \\\n",
       "0  1  0.483130  0.790980  0.702555  0.528220  0.298746  0.025488 -0.173480   \n",
       "1  1  1.135624  0.765286  0.604512  0.414197  0.241638  0.181862 -0.031920   \n",
       "2  1  0.686081  0.702834  0.637708  0.798416  0.755065  0.705225  0.535391   \n",
       "3  1 -1.342005  0.018378 -0.097297 -0.020850 -0.083325 -0.268512 -0.486335   \n",
       "4  1 -0.241418  0.463120  0.665307  0.446953  0.480780  0.392500  0.309231   \n",
       "\n",
       "          6         7  ...        40        41        42        43        44  \\\n",
       "0 -0.245290 -0.405057  ...  0.954288  1.143901  1.359252  1.081061  1.364409   \n",
       "1 -0.070617 -0.185980  ...  0.561545  0.678086  0.848950  1.133852  1.041396   \n",
       "2  0.613129  0.549732  ...  1.328694  1.324254  1.272889  1.074786  0.753950   \n",
       "3 -0.731130 -0.924458  ... -0.386676 -0.357946 -0.612069 -0.698063 -0.891789   \n",
       "4  0.158462  0.190963  ... -0.174944 -0.529541 -0.191921 -0.258093 -0.542403   \n",
       "\n",
       "         45        46        47        48        49  \n",
       "0  1.449354  1.195431  1.195992  1.165327  0.771110  \n",
       "1  1.242806  1.248121  1.331348  1.267123  1.292718  \n",
       "2  0.539693  0.402041  0.442759  0.487557  0.699007  \n",
       "3 -1.127624 -1.535678 -1.490786 -1.856840 -1.441472  \n",
       "4 -0.414866 -0.485580 -0.768820 -0.662573 -0.211837  \n",
       "\n",
       "[5 rows x 52 columns]"
      ]
     },
     "execution_count": 32,
     "metadata": {},
     "output_type": "execute_result"
    }
   ],
   "source": [
    "train.head()"
   ]
  },
  {
   "cell_type": "code",
   "execution_count": 35,
   "id": "average-sample",
   "metadata": {
    "jupyter": {
     "outputs_hidden": true
    }
   },
   "outputs": [
    {
     "data": {
      "text/html": [
       "<div>\n",
       "<style scoped>\n",
       "    .dataframe tbody tr th:only-of-type {\n",
       "        vertical-align: middle;\n",
       "    }\n",
       "\n",
       "    .dataframe tbody tr th {\n",
       "        vertical-align: top;\n",
       "    }\n",
       "\n",
       "    .dataframe thead th {\n",
       "        text-align: right;\n",
       "    }\n",
       "</style>\n",
       "<table border=\"1\" class=\"dataframe\">\n",
       "  <thead>\n",
       "    <tr style=\"text-align: right;\">\n",
       "      <th></th>\n",
       "      <th>0</th>\n",
       "      <th>1</th>\n",
       "      <th>2</th>\n",
       "      <th>3</th>\n",
       "      <th>4</th>\n",
       "      <th>5</th>\n",
       "      <th>6</th>\n",
       "      <th>7</th>\n",
       "      <th>8</th>\n",
       "      <th>9</th>\n",
       "      <th>...</th>\n",
       "      <th>40</th>\n",
       "      <th>41</th>\n",
       "      <th>42</th>\n",
       "      <th>43</th>\n",
       "      <th>44</th>\n",
       "      <th>45</th>\n",
       "      <th>46</th>\n",
       "      <th>47</th>\n",
       "      <th>48</th>\n",
       "      <th>49</th>\n",
       "    </tr>\n",
       "  </thead>\n",
       "  <tbody>\n",
       "    <tr>\n",
       "      <th>0</th>\n",
       "      <td>-0.670595</td>\n",
       "      <td>-0.839068</td>\n",
       "      <td>-0.734415</td>\n",
       "      <td>-0.587261</td>\n",
       "      <td>-0.788800</td>\n",
       "      <td>-0.975857</td>\n",
       "      <td>-0.774088</td>\n",
       "      <td>-1.021334</td>\n",
       "      <td>-1.110286</td>\n",
       "      <td>-0.893337</td>\n",
       "      <td>...</td>\n",
       "      <td>-0.997627</td>\n",
       "      <td>-1.103794</td>\n",
       "      <td>-1.092988</td>\n",
       "      <td>-0.989165</td>\n",
       "      <td>-0.827528</td>\n",
       "      <td>-0.813729</td>\n",
       "      <td>-0.532411</td>\n",
       "      <td>-0.289483</td>\n",
       "      <td>-0.407720</td>\n",
       "      <td>-0.407505</td>\n",
       "    </tr>\n",
       "    <tr>\n",
       "      <th>1</th>\n",
       "      <td>0.188165</td>\n",
       "      <td>0.166410</td>\n",
       "      <td>0.321011</td>\n",
       "      <td>0.318078</td>\n",
       "      <td>0.641710</td>\n",
       "      <td>0.951932</td>\n",
       "      <td>1.170069</td>\n",
       "      <td>1.177711</td>\n",
       "      <td>0.987763</td>\n",
       "      <td>0.981345</td>\n",
       "      <td>...</td>\n",
       "      <td>0.743405</td>\n",
       "      <td>0.916254</td>\n",
       "      <td>0.866453</td>\n",
       "      <td>0.953677</td>\n",
       "      <td>0.716259</td>\n",
       "      <td>0.692816</td>\n",
       "      <td>0.446713</td>\n",
       "      <td>0.539733</td>\n",
       "      <td>0.279293</td>\n",
       "      <td>0.180641</td>\n",
       "    </tr>\n",
       "    <tr>\n",
       "      <th>2</th>\n",
       "      <td>0.886510</td>\n",
       "      <td>0.760716</td>\n",
       "      <td>0.751800</td>\n",
       "      <td>0.052198</td>\n",
       "      <td>-0.050958</td>\n",
       "      <td>-0.140734</td>\n",
       "      <td>-0.173480</td>\n",
       "      <td>0.178508</td>\n",
       "      <td>0.198187</td>\n",
       "      <td>0.357906</td>\n",
       "      <td>...</td>\n",
       "      <td>0.444142</td>\n",
       "      <td>0.492294</td>\n",
       "      <td>0.573348</td>\n",
       "      <td>0.546323</td>\n",
       "      <td>0.373874</td>\n",
       "      <td>0.699132</td>\n",
       "      <td>0.808303</td>\n",
       "      <td>1.118522</td>\n",
       "      <td>1.284887</td>\n",
       "      <td>1.541929</td>\n",
       "    </tr>\n",
       "    <tr>\n",
       "      <th>3</th>\n",
       "      <td>-0.187722</td>\n",
       "      <td>0.030199</td>\n",
       "      <td>-0.072558</td>\n",
       "      <td>-0.098400</td>\n",
       "      <td>-0.110795</td>\n",
       "      <td>-0.127632</td>\n",
       "      <td>-0.241193</td>\n",
       "      <td>-0.374608</td>\n",
       "      <td>-0.651771</td>\n",
       "      <td>-0.513491</td>\n",
       "      <td>...</td>\n",
       "      <td>-0.340927</td>\n",
       "      <td>-0.268253</td>\n",
       "      <td>-0.654777</td>\n",
       "      <td>-1.133722</td>\n",
       "      <td>-1.484557</td>\n",
       "      <td>-1.446644</td>\n",
       "      <td>-1.654337</td>\n",
       "      <td>-1.521009</td>\n",
       "      <td>-1.593825</td>\n",
       "      <td>-1.110684</td>\n",
       "    </tr>\n",
       "    <tr>\n",
       "      <th>4</th>\n",
       "      <td>0.248822</td>\n",
       "      <td>0.168815</td>\n",
       "      <td>0.260804</td>\n",
       "      <td>0.505885</td>\n",
       "      <td>0.471486</td>\n",
       "      <td>1.018661</td>\n",
       "      <td>0.971406</td>\n",
       "      <td>1.062348</td>\n",
       "      <td>0.986871</td>\n",
       "      <td>0.947982</td>\n",
       "      <td>...</td>\n",
       "      <td>0.422044</td>\n",
       "      <td>0.688196</td>\n",
       "      <td>0.382416</td>\n",
       "      <td>0.344843</td>\n",
       "      <td>0.177595</td>\n",
       "      <td>0.330549</td>\n",
       "      <td>0.595061</td>\n",
       "      <td>0.884860</td>\n",
       "      <td>1.125103</td>\n",
       "      <td>1.220779</td>\n",
       "    </tr>\n",
       "  </tbody>\n",
       "</table>\n",
       "<p>5 rows × 50 columns</p>\n",
       "</div>"
      ],
      "text/plain": [
       "          0         1         2         3         4         5         6  \\\n",
       "0 -0.670595 -0.839068 -0.734415 -0.587261 -0.788800 -0.975857 -0.774088   \n",
       "1  0.188165  0.166410  0.321011  0.318078  0.641710  0.951932  1.170069   \n",
       "2  0.886510  0.760716  0.751800  0.052198 -0.050958 -0.140734 -0.173480   \n",
       "3 -0.187722  0.030199 -0.072558 -0.098400 -0.110795 -0.127632 -0.241193   \n",
       "4  0.248822  0.168815  0.260804  0.505885  0.471486  1.018661  0.971406   \n",
       "\n",
       "          7         8         9  ...        40        41        42        43  \\\n",
       "0 -1.021334 -1.110286 -0.893337  ... -0.997627 -1.103794 -1.092988 -0.989165   \n",
       "1  1.177711  0.987763  0.981345  ...  0.743405  0.916254  0.866453  0.953677   \n",
       "2  0.178508  0.198187  0.357906  ...  0.444142  0.492294  0.573348  0.546323   \n",
       "3 -0.374608 -0.651771 -0.513491  ... -0.340927 -0.268253 -0.654777 -1.133722   \n",
       "4  1.062348  0.986871  0.947982  ...  0.422044  0.688196  0.382416  0.344843   \n",
       "\n",
       "         44        45        46        47        48        49  \n",
       "0 -0.827528 -0.813729 -0.532411 -0.289483 -0.407720 -0.407505  \n",
       "1  0.716259  0.692816  0.446713  0.539733  0.279293  0.180641  \n",
       "2  0.373874  0.699132  0.808303  1.118522  1.284887  1.541929  \n",
       "3 -1.484557 -1.446644 -1.654337 -1.521009 -1.593825 -1.110684  \n",
       "4  0.177595  0.330549  0.595061  0.884860  1.125103  1.220779  \n",
       "\n",
       "[5 rows x 50 columns]"
      ]
     },
     "execution_count": 35,
     "metadata": {},
     "output_type": "execute_result"
    }
   ],
   "source": [
    "test.head()"
   ]
  },
  {
   "cell_type": "markdown",
   "id": "positive-shipping",
   "metadata": {},
   "source": [
    "We now drop the `y` label (that is the one that we'll predict) from the training set"
   ]
  },
  {
   "cell_type": "code",
   "execution_count": 36,
   "id": "urban-satisfaction",
   "metadata": {
    "jupyter": {
     "outputs_hidden": true
    }
   },
   "outputs": [
    {
     "data": {
      "text/html": [
       "<div>\n",
       "<style scoped>\n",
       "    .dataframe tbody tr th:only-of-type {\n",
       "        vertical-align: middle;\n",
       "    }\n",
       "\n",
       "    .dataframe tbody tr th {\n",
       "        vertical-align: top;\n",
       "    }\n",
       "\n",
       "    .dataframe thead th {\n",
       "        text-align: right;\n",
       "    }\n",
       "</style>\n",
       "<table border=\"1\" class=\"dataframe\">\n",
       "  <thead>\n",
       "    <tr style=\"text-align: right;\">\n",
       "      <th></th>\n",
       "      <th>w</th>\n",
       "      <th>0</th>\n",
       "      <th>1</th>\n",
       "      <th>2</th>\n",
       "      <th>3</th>\n",
       "      <th>4</th>\n",
       "      <th>5</th>\n",
       "      <th>6</th>\n",
       "      <th>7</th>\n",
       "      <th>8</th>\n",
       "      <th>...</th>\n",
       "      <th>40</th>\n",
       "      <th>41</th>\n",
       "      <th>42</th>\n",
       "      <th>43</th>\n",
       "      <th>44</th>\n",
       "      <th>45</th>\n",
       "      <th>46</th>\n",
       "      <th>47</th>\n",
       "      <th>48</th>\n",
       "      <th>49</th>\n",
       "    </tr>\n",
       "  </thead>\n",
       "  <tbody>\n",
       "    <tr>\n",
       "      <th>0</th>\n",
       "      <td>1</td>\n",
       "      <td>0.790980</td>\n",
       "      <td>0.702555</td>\n",
       "      <td>0.528220</td>\n",
       "      <td>0.298746</td>\n",
       "      <td>0.025488</td>\n",
       "      <td>-0.173480</td>\n",
       "      <td>-0.245290</td>\n",
       "      <td>-0.405057</td>\n",
       "      <td>-0.371818</td>\n",
       "      <td>...</td>\n",
       "      <td>0.954288</td>\n",
       "      <td>1.143901</td>\n",
       "      <td>1.359252</td>\n",
       "      <td>1.081061</td>\n",
       "      <td>1.364409</td>\n",
       "      <td>1.449354</td>\n",
       "      <td>1.195431</td>\n",
       "      <td>1.195992</td>\n",
       "      <td>1.165327</td>\n",
       "      <td>0.771110</td>\n",
       "    </tr>\n",
       "    <tr>\n",
       "      <th>1</th>\n",
       "      <td>1</td>\n",
       "      <td>0.765286</td>\n",
       "      <td>0.604512</td>\n",
       "      <td>0.414197</td>\n",
       "      <td>0.241638</td>\n",
       "      <td>0.181862</td>\n",
       "      <td>-0.031920</td>\n",
       "      <td>-0.070617</td>\n",
       "      <td>-0.185980</td>\n",
       "      <td>-0.188546</td>\n",
       "      <td>...</td>\n",
       "      <td>0.561545</td>\n",
       "      <td>0.678086</td>\n",
       "      <td>0.848950</td>\n",
       "      <td>1.133852</td>\n",
       "      <td>1.041396</td>\n",
       "      <td>1.242806</td>\n",
       "      <td>1.248121</td>\n",
       "      <td>1.331348</td>\n",
       "      <td>1.267123</td>\n",
       "      <td>1.292718</td>\n",
       "    </tr>\n",
       "    <tr>\n",
       "      <th>2</th>\n",
       "      <td>1</td>\n",
       "      <td>0.702834</td>\n",
       "      <td>0.637708</td>\n",
       "      <td>0.798416</td>\n",
       "      <td>0.755065</td>\n",
       "      <td>0.705225</td>\n",
       "      <td>0.535391</td>\n",
       "      <td>0.613129</td>\n",
       "      <td>0.549732</td>\n",
       "      <td>0.472387</td>\n",
       "      <td>...</td>\n",
       "      <td>1.328694</td>\n",
       "      <td>1.324254</td>\n",
       "      <td>1.272889</td>\n",
       "      <td>1.074786</td>\n",
       "      <td>0.753950</td>\n",
       "      <td>0.539693</td>\n",
       "      <td>0.402041</td>\n",
       "      <td>0.442759</td>\n",
       "      <td>0.487557</td>\n",
       "      <td>0.699007</td>\n",
       "    </tr>\n",
       "    <tr>\n",
       "      <th>3</th>\n",
       "      <td>1</td>\n",
       "      <td>0.018378</td>\n",
       "      <td>-0.097297</td>\n",
       "      <td>-0.020850</td>\n",
       "      <td>-0.083325</td>\n",
       "      <td>-0.268512</td>\n",
       "      <td>-0.486335</td>\n",
       "      <td>-0.731130</td>\n",
       "      <td>-0.924458</td>\n",
       "      <td>-0.995159</td>\n",
       "      <td>...</td>\n",
       "      <td>-0.386676</td>\n",
       "      <td>-0.357946</td>\n",
       "      <td>-0.612069</td>\n",
       "      <td>-0.698063</td>\n",
       "      <td>-0.891789</td>\n",
       "      <td>-1.127624</td>\n",
       "      <td>-1.535678</td>\n",
       "      <td>-1.490786</td>\n",
       "      <td>-1.856840</td>\n",
       "      <td>-1.441472</td>\n",
       "    </tr>\n",
       "    <tr>\n",
       "      <th>4</th>\n",
       "      <td>1</td>\n",
       "      <td>0.463120</td>\n",
       "      <td>0.665307</td>\n",
       "      <td>0.446953</td>\n",
       "      <td>0.480780</td>\n",
       "      <td>0.392500</td>\n",
       "      <td>0.309231</td>\n",
       "      <td>0.158462</td>\n",
       "      <td>0.190963</td>\n",
       "      <td>0.273600</td>\n",
       "      <td>...</td>\n",
       "      <td>-0.174944</td>\n",
       "      <td>-0.529541</td>\n",
       "      <td>-0.191921</td>\n",
       "      <td>-0.258093</td>\n",
       "      <td>-0.542403</td>\n",
       "      <td>-0.414866</td>\n",
       "      <td>-0.485580</td>\n",
       "      <td>-0.768820</td>\n",
       "      <td>-0.662573</td>\n",
       "      <td>-0.211837</td>\n",
       "    </tr>\n",
       "  </tbody>\n",
       "</table>\n",
       "<p>5 rows × 51 columns</p>\n",
       "</div>"
      ],
      "text/plain": [
       "   w         0         1         2         3         4         5         6  \\\n",
       "0  1  0.790980  0.702555  0.528220  0.298746  0.025488 -0.173480 -0.245290   \n",
       "1  1  0.765286  0.604512  0.414197  0.241638  0.181862 -0.031920 -0.070617   \n",
       "2  1  0.702834  0.637708  0.798416  0.755065  0.705225  0.535391  0.613129   \n",
       "3  1  0.018378 -0.097297 -0.020850 -0.083325 -0.268512 -0.486335 -0.731130   \n",
       "4  1  0.463120  0.665307  0.446953  0.480780  0.392500  0.309231  0.158462   \n",
       "\n",
       "          7         8  ...        40        41        42        43        44  \\\n",
       "0 -0.405057 -0.371818  ...  0.954288  1.143901  1.359252  1.081061  1.364409   \n",
       "1 -0.185980 -0.188546  ...  0.561545  0.678086  0.848950  1.133852  1.041396   \n",
       "2  0.549732  0.472387  ...  1.328694  1.324254  1.272889  1.074786  0.753950   \n",
       "3 -0.924458 -0.995159  ... -0.386676 -0.357946 -0.612069 -0.698063 -0.891789   \n",
       "4  0.190963  0.273600  ... -0.174944 -0.529541 -0.191921 -0.258093 -0.542403   \n",
       "\n",
       "         45        46        47        48        49  \n",
       "0  1.449354  1.195431  1.195992  1.165327  0.771110  \n",
       "1  1.242806  1.248121  1.331348  1.267123  1.292718  \n",
       "2  0.539693  0.402041  0.442759  0.487557  0.699007  \n",
       "3 -1.127624 -1.535678 -1.490786 -1.856840 -1.441472  \n",
       "4 -0.414866 -0.485580 -0.768820 -0.662573 -0.211837  \n",
       "\n",
       "[5 rows x 51 columns]"
      ]
     },
     "execution_count": 36,
     "metadata": {},
     "output_type": "execute_result"
    }
   ],
   "source": [
    "financial_train = train.drop(\"y\", axis=1)\n",
    "y = train[\"y\"].copy()\n",
    "financial_train.head()"
   ]
  },
  {
   "cell_type": "markdown",
   "id": "organic-wrestling",
   "metadata": {},
   "source": [
    "We now check so that for `null` values in the dataset.\n",
    "\n",
    "We could also use `.info()` to have more information like the Dtypes of the data."
   ]
  },
  {
   "cell_type": "code",
   "execution_count": 69,
   "id": "exclusive-stopping",
   "metadata": {
    "jupyter": {
     "outputs_hidden": true
    }
   },
   "outputs": [
    {
     "data": {
      "text/plain": [
       "False"
      ]
     },
     "execution_count": 69,
     "metadata": {},
     "output_type": "execute_result"
    }
   ],
   "source": [
    "financial_train.isnull().values.any()\n",
    "#financial_train.info()"
   ]
  },
  {
   "cell_type": "markdown",
   "id": "favorite-chance",
   "metadata": {},
   "source": [
    "We now print the mean and the standard deviation for `financial_train` and after the plot for the correlation"
   ]
  },
  {
   "cell_type": "code",
   "execution_count": 90,
   "id": "royal-atlanta",
   "metadata": {
    "jupyter": {
     "outputs_hidden": true
    },
    "scrolled": false
   },
   "outputs": [
    {
     "name": "stdout",
     "output_type": "stream",
     "text": [
      "mean:\n",
      "\n",
      "[1.         0.01690311 0.01897392 0.02320434 0.02763826 0.03106758\n",
      " 0.03990432 0.04564649 0.05125901 0.05523723 0.05998229 0.06348559\n",
      " 0.06059931 0.0595254  0.05751156 0.05432058 0.04932228 0.04643498\n",
      " 0.04403553 0.0406522  0.04198718 0.0409172  0.04040852 0.04092458\n",
      " 0.0464065  0.04816842 0.05133673 0.05514936 0.05567795 0.05729535\n",
      " 0.05941809 0.05451284 0.05246735 0.05084397 0.04789078 0.04369453\n",
      " 0.04131472 0.03917703 0.03669292 0.03443982 0.0305863  0.03662203\n",
      " 0.03902369 0.04360521 0.04540032 0.04947673 0.05575918 0.06071495\n",
      " 0.07043613 0.07828405 0.08102811] \n",
      "\n",
      " std: \n",
      "\n",
      "[0.         0.52541053 0.52491514 0.52848951 0.53464913 0.53880475\n",
      " 0.5417865  0.54870909 0.55419235 0.55770326 0.56149684 0.560994\n",
      " 0.56543377 0.56992756 0.57350887 0.57712409 0.57916214 0.58666059\n",
      " 0.58964479 0.5969637  0.60356411 0.60950638 0.6191625  0.62788191\n",
      " 0.63977145 0.64798546 0.65465379 0.66365014 0.66996123 0.67578322\n",
      " 0.68552744 0.6940925  0.70205383 0.71153066 0.71805973 0.72637984\n",
      " 0.73511858 0.74174153 0.74887765 0.7607051  0.77048763 0.77962479\n",
      " 0.79185982 0.80142961 0.81351217 0.82554335 0.8329938  0.84780252\n",
      " 0.86211745 0.88122666 0.89348236]\n"
     ]
    }
   ],
   "source": [
    "mean = np.array(financial_train.mean(axis=0))\n",
    "std = np.array(financial_train.std(axis=0))\n",
    "print(f\"mean:\\n\\n{mean} \\n\\n std: \\n\\n{std}\")"
   ]
  },
  {
   "cell_type": "code",
   "execution_count": 95,
   "id": "passive-clerk",
   "metadata": {},
   "outputs": [
    {
     "data": {
      "image/png": "[encoded data removed]",
      "text/plain": [
       "<Figure size 288x288 with 1 Axes>"
      ]
     },
     "metadata": {
      "needs_background": "light"
     },
     "output_type": "display_data"
    }
   ],
   "source": [
    "plt.matshow(financial_train.corr())\n",
    "plt.show()"
   ]
  },
  {
   "cell_type": "markdown",
   "id": "welcome-above",
   "metadata": {},
   "source": [
    "### Data Preparation"
   ]
  },
  {
   "cell_type": "markdown",
   "id": "chief-milton",
   "metadata": {},
   "source": [
    "We now use `StandardScaler` from `sklearn.preprocessing` to standardize features by removing the mean and scaling to unit variance.\n",
    "\n",
    "The standard score of a sample x is calculated as: $z = \\frac{x-\\mu}{\\sigma}$\n",
    "\n",
    "where $\\mu$ is the mean of the training samples and $\\sigma$ is the standard deviation of the training samples. Then it's printed the first element of the standardized training set that is `fin_train_tr`"
   ]
  },
  {
   "cell_type": "code",
   "execution_count": 110,
   "id": "floating-complex",
   "metadata": {
    "jupyter": {
     "outputs_hidden": true
    }
   },
   "outputs": [
    {
     "data": {
      "text/plain": [
       "array([ 0.        ,  1.47338019,  1.30235825,  0.95564801,  0.50711092,\n",
       "       -0.01035549, -0.39387997, -0.5302557 , -0.82344513, -0.76579133,\n",
       "       -0.16442222,  0.13738692,  0.583178  ,  0.63846677,  0.65639649,\n",
       "        0.63737201,  0.88648875,  1.15512339,  1.40222914,  1.27671247,\n",
       "        1.20540183,  1.41247976,  1.5211402 ,  1.61250985,  1.74262046,\n",
       "        1.54044274,  1.02274007,  0.7181615 ,  0.23427535, -0.16626768,\n",
       "        0.1978177 , -0.40068443, -0.20931982,  0.51195996,  0.51298375,\n",
       "        0.59917762,  1.04173587,  1.18806649,  0.98412464,  1.12846276,\n",
       "        1.34941833,  1.17714117,  1.3953899 ,  1.64173646,  1.27315984,\n",
       "        1.59291723,  1.67310954,  1.33851173,  1.30566091,  1.23364047,\n",
       "        0.7724038 ])"
      ]
     },
     "execution_count": 110,
     "metadata": {},
     "output_type": "execute_result"
    }
   ],
   "source": [
    "import sklearn\n",
    "from sklearn.preprocessing import StandardScaler\n",
    "\n",
    "scaler = StandardScaler()\n",
    "#print(scaler.fit(financial_train))\n",
    "#print(scaler.transform(financial_train))\n",
    "fin_train_tr = scaler.fit_transform(financial_train)\n",
    "fin_train_tr[0]"
   ]
  },
  {
   "cell_type": "markdown",
   "id": "wound-saudi",
   "metadata": {},
   "source": [
    "And we can check the structure of `fin_train_tr` by looking at it shape"
   ]
  },
  {
   "cell_type": "code",
   "execution_count": 111,
   "id": "governing-release",
   "metadata": {
    "jupyter": {
     "outputs_hidden": true
    }
   },
   "outputs": [
    {
     "data": {
      "text/plain": [
       "(7326, 51)"
      ]
     },
     "execution_count": 111,
     "metadata": {},
     "output_type": "execute_result"
    }
   ],
   "source": [
    "fin_train_tr.shape"
   ]
  },
  {
   "cell_type": "markdown",
   "id": "handy-tension",
   "metadata": {},
   "source": [
    "### Linear Regression"
   ]
  },
  {
   "cell_type": "markdown",
   "id": "alpine-dressing",
   "metadata": {},
   "source": [
    "Now, the data prepared before are fitted into the linear regression"
   ]
  },
  {
   "cell_type": "code",
   "execution_count": 113,
   "id": "competent-estonia",
   "metadata": {
    "jupyter": {
     "outputs_hidden": true
    }
   },
   "outputs": [],
   "source": [
    "from sklearn.linear_model import LinearRegression\n",
    "\n",
    "lin_reg = LinearRegression()\n",
    "reg=lin_reg.fit(fin_train_tr, y)"
   ]
  },
  {
   "cell_type": "markdown",
   "id": "primary-chart",
   "metadata": {},
   "source": [
    "and the coefficients obtained regressing are printed"
   ]
  },
  {
   "cell_type": "code",
   "execution_count": 114,
   "id": "hollywood-prompt",
   "metadata": {
    "jupyter": {
     "outputs_hidden": true
    }
   },
   "outputs": [
    {
     "data": {
      "text/plain": [
       "array([-3.22655110e-17, -3.34435281e-02, -2.18638984e-02, -4.79024293e-03,\n",
       "        1.00354517e-02,  9.06220587e-03,  3.37682379e-03, -2.60761139e-02,\n",
       "       -4.78667970e-03, -9.22734994e-03, -6.35231575e-03, -1.64575017e-02,\n",
       "        1.18452641e-02, -4.95130008e-03,  4.94386796e-03,  4.89572843e-03,\n",
       "       -1.73787263e-02,  3.21569799e-03,  9.23936053e-04,  1.92482862e-02,\n",
       "        2.33734567e-02,  2.88237312e-02,  3.28647979e-02,  4.46000499e-03,\n",
       "        3.52186374e-03,  1.41236562e-02,  5.80923820e-03,  1.39946248e-02,\n",
       "        5.15499646e-02,  3.94230051e-02,  2.66438936e-02, -1.18676667e-02,\n",
       "        2.86494500e-03, -2.85030348e-03,  3.21493729e-02,  5.47392023e-02,\n",
       "        6.09082667e-02,  3.87584383e-02, -1.53845735e-02, -4.30981803e-02,\n",
       "       -5.68740933e-02, -5.75771621e-03,  2.81220450e-02,  5.59567792e-02,\n",
       "        3.56888898e-02, -2.53793003e-03, -1.30826349e-01, -1.70443946e-01,\n",
       "       -6.74140281e-02,  2.44145141e-01,  7.11379589e-01])"
      ]
     },
     "execution_count": 114,
     "metadata": {},
     "output_type": "execute_result"
    }
   ],
   "source": [
    "reg.coef_"
   ]
  },
  {
   "cell_type": "markdown",
   "id": "binding-closing",
   "metadata": {},
   "source": [
    "### Error evaluation (on the training set)"
   ]
  },
  {
   "cell_type": "markdown",
   "id": "knowing-lexington",
   "metadata": {},
   "source": [
    "Firts is computed the MSE"
   ]
  },
  {
   "cell_type": "code",
   "execution_count": 115,
   "id": "photographic-affiliate",
   "metadata": {
    "jupyter": {
     "outputs_hidden": true
    }
   },
   "outputs": [
    {
     "data": {
      "text/plain": [
       "0.15053862493315537"
      ]
     },
     "execution_count": 115,
     "metadata": {},
     "output_type": "execute_result"
    }
   ],
   "source": [
    "from sklearn.metrics import mean_squared_error\n",
    "\n",
    "fin_predictions = lin_reg.predict(fin_train_tr)\n",
    "lin_mse = mean_squared_error(y, fin_predictions)\n",
    "lin_rmse = np.sqrt(lin_mse)\n",
    "lin_rmse"
   ]
  },
  {
   "cell_type": "markdown",
   "id": "distant-madonna",
   "metadata": {},
   "source": [
    "and then MAE"
   ]
  },
  {
   "cell_type": "code",
   "execution_count": 119,
   "id": "organized-clearance",
   "metadata": {
    "jupyter": {
     "outputs_hidden": true
    }
   },
   "outputs": [
    {
     "data": {
      "text/plain": [
       "0.12126773129689672"
      ]
     },
     "execution_count": 119,
     "metadata": {},
     "output_type": "execute_result"
    }
   ],
   "source": [
    "from sklearn.metrics import mean_absolute_error\n",
    "\n",
    "lin_mae = mean_absolute_error(y, fin_predictions)\n",
    "lin_mae"
   ]
  },
  {
   "cell_type": "code",
   "execution_count": null,
   "id": "charming-grave",
   "metadata": {},
   "outputs": [],
   "source": []
  }
 ],
 "metadata": {
  "kernelspec": {
   "display_name": "Python 3",
   "language": "python",
   "name": "python3"
  },
  "language_info": {
   "codemirror_mode": {
    "name": "ipython",
    "version": 3
   },
   "file_extension": ".py",
   "mimetype": "text/x-python",
   "name": "python",
   "nbconvert_exporter": "python",
   "pygments_lexer": "ipython3",
   "version": "3.8.8"
  }
 },
 "nbformat": 4,
 "nbformat_minor": 5
}
