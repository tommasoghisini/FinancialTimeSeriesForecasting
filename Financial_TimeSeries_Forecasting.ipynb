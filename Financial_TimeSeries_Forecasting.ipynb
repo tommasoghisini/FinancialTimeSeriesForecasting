{
 "cells": [
  {
   "cell_type": "markdown",
   "metadata": {
    "id": "mounted-farming"
   },
   "source": [
    "# Financial Time-Series Forecasting Challenge"
   ]
  },
  {
   "cell_type": "markdown",
   "metadata": {
    "id": "OYbHxtEfEr6q"
   },
   "source": [
    "### Google Colab Environment"
   ]
  },
  {
   "cell_type": "code",
   "execution_count": 1,
   "metadata": {
    "id": "grand-present",
    "jupyter": {
     "outputs_hidden": true
    }
   },
   "outputs": [],
   "source": [
    "import os\n",
    "import numpy as np\n",
    "import pandas as pd\n",
    "import matplotlib.pyplot as plt"
   ]
  },
  {
   "cell_type": "markdown",
   "metadata": {
    "id": "YcNOU9-lEfd5"
   },
   "source": [
    "To work in a Google Colab environment and use the Google GPU Engine uncomment the following cells"
   ]
  },
  {
   "cell_type": "code",
   "execution_count": 2,
   "metadata": {
    "colab": {
     "base_uri": "https://localhost:8080/"
    },
    "id": "XhjJFOv52LAJ",
    "outputId": "d782e0cb-6119-48d5-e66a-196b322c3746"
   },
   "outputs": [
    {
     "name": "stdout",
     "output_type": "stream",
     "text": [
      "Found GPU at: /device:GPU:0\n"
     ]
    }
   ],
   "source": [
    "%tensorflow_version 2.x\n",
    "import tensorflow as tf\n",
    "device_name = tf.test.gpu_device_name()\n",
    "if device_name != '/device:GPU:0':\n",
    "  raise SystemError('GPU device not found')\n",
    "print('Found GPU at: {}'.format(device_name))"
   ]
  },
  {
   "cell_type": "markdown",
   "metadata": {
    "id": "teukICT8E2m6"
   },
   "source": [
    "The train and test dataset should be uploaded to Google Drive, then the drive is mounted so that the files are accessible"
   ]
  },
  {
   "cell_type": "code",
   "execution_count": 6,
   "metadata": {
    "colab": {
     "base_uri": "https://localhost:8080/"
    },
    "id": "zbG1Q3GV2tSm",
    "outputId": "001d32f0-fa17-41d7-cbc6-e1af2080cb22"
   },
   "outputs": [
    {
     "name": "stdout",
     "output_type": "stream",
     "text": [
      "Mounted at /content/drive\n"
     ]
    }
   ],
   "source": [
    "from google.colab import drive\n",
    "drive.mount(\"/content/drive\")\n",
    "\n",
    "test = pd.read_csv(\"/content/drive/My Drive/test.csv\")\n",
    "train = pd.read_csv(\"/content/drive/My Drive/train.csv\")"
   ]
  },
  {
   "cell_type": "code",
   "execution_count": 8,
   "metadata": {
    "colab": {
     "base_uri": "https://localhost:8080/",
     "height": 224
    },
    "id": "vbbOtR5M3U10",
    "outputId": "19fe7def-2595-4db3-959d-2e935c984ef5"
   },
   "outputs": [
    {
     "data": {
      "text/html": [
       "<div>\n",
       "<style scoped>\n",
       "    .dataframe tbody tr th:only-of-type {\n",
       "        vertical-align: middle;\n",
       "    }\n",
       "\n",
       "    .dataframe tbody tr th {\n",
       "        vertical-align: top;\n",
       "    }\n",
       "\n",
       "    .dataframe thead th {\n",
       "        text-align: right;\n",
       "    }\n",
       "</style>\n",
       "<table border=\"1\" class=\"dataframe\">\n",
       "  <thead>\n",
       "    <tr style=\"text-align: right;\">\n",
       "      <th></th>\n",
       "      <th>w</th>\n",
       "      <th>y</th>\n",
       "      <th>0</th>\n",
       "      <th>1</th>\n",
       "      <th>2</th>\n",
       "      <th>3</th>\n",
       "      <th>4</th>\n",
       "      <th>5</th>\n",
       "      <th>6</th>\n",
       "      <th>7</th>\n",
       "      <th>8</th>\n",
       "      <th>9</th>\n",
       "      <th>10</th>\n",
       "      <th>11</th>\n",
       "      <th>12</th>\n",
       "      <th>13</th>\n",
       "      <th>14</th>\n",
       "      <th>15</th>\n",
       "      <th>16</th>\n",
       "      <th>17</th>\n",
       "      <th>18</th>\n",
       "      <th>19</th>\n",
       "      <th>20</th>\n",
       "      <th>21</th>\n",
       "      <th>22</th>\n",
       "      <th>23</th>\n",
       "      <th>24</th>\n",
       "      <th>25</th>\n",
       "      <th>26</th>\n",
       "      <th>27</th>\n",
       "      <th>28</th>\n",
       "      <th>29</th>\n",
       "      <th>30</th>\n",
       "      <th>31</th>\n",
       "      <th>32</th>\n",
       "      <th>33</th>\n",
       "      <th>34</th>\n",
       "      <th>35</th>\n",
       "      <th>36</th>\n",
       "      <th>37</th>\n",
       "      <th>38</th>\n",
       "      <th>39</th>\n",
       "      <th>40</th>\n",
       "      <th>41</th>\n",
       "      <th>42</th>\n",
       "      <th>43</th>\n",
       "      <th>44</th>\n",
       "      <th>45</th>\n",
       "      <th>46</th>\n",
       "      <th>47</th>\n",
       "      <th>48</th>\n",
       "      <th>49</th>\n",
       "    </tr>\n",
       "  </thead>\n",
       "  <tbody>\n",
       "    <tr>\n",
       "      <th>0</th>\n",
       "      <td>1</td>\n",
       "      <td>0.483130</td>\n",
       "      <td>0.790980</td>\n",
       "      <td>0.702555</td>\n",
       "      <td>0.528220</td>\n",
       "      <td>0.298746</td>\n",
       "      <td>0.025488</td>\n",
       "      <td>-0.173480</td>\n",
       "      <td>-0.245290</td>\n",
       "      <td>-0.405057</td>\n",
       "      <td>-0.371818</td>\n",
       "      <td>-0.032334</td>\n",
       "      <td>0.140554</td>\n",
       "      <td>0.390325</td>\n",
       "      <td>0.423380</td>\n",
       "      <td>0.433935</td>\n",
       "      <td>0.422138</td>\n",
       "      <td>0.562708</td>\n",
       "      <td>0.724054</td>\n",
       "      <td>0.870796</td>\n",
       "      <td>0.802751</td>\n",
       "      <td>0.769475</td>\n",
       "      <td>0.901774</td>\n",
       "      <td>0.982177</td>\n",
       "      <td>1.053321</td>\n",
       "      <td>1.161209</td>\n",
       "      <td>1.046285</td>\n",
       "      <td>0.720832</td>\n",
       "      <td>0.531725</td>\n",
       "      <td>0.212623</td>\n",
       "      <td>-0.055058</td>\n",
       "      <td>0.195018</td>\n",
       "      <td>-0.223580</td>\n",
       "      <td>-0.094476</td>\n",
       "      <td>0.415094</td>\n",
       "      <td>0.416219</td>\n",
       "      <td>0.478895</td>\n",
       "      <td>0.807062</td>\n",
       "      <td>0.920355</td>\n",
       "      <td>0.773632</td>\n",
       "      <td>0.892809</td>\n",
       "      <td>1.070225</td>\n",
       "      <td>0.954288</td>\n",
       "      <td>1.143901</td>\n",
       "      <td>1.359252</td>\n",
       "      <td>1.081061</td>\n",
       "      <td>1.364409</td>\n",
       "      <td>1.449354</td>\n",
       "      <td>1.195431</td>\n",
       "      <td>1.195992</td>\n",
       "      <td>1.165327</td>\n",
       "      <td>0.771110</td>\n",
       "    </tr>\n",
       "    <tr>\n",
       "      <th>1</th>\n",
       "      <td>1</td>\n",
       "      <td>1.135624</td>\n",
       "      <td>0.765286</td>\n",
       "      <td>0.604512</td>\n",
       "      <td>0.414197</td>\n",
       "      <td>0.241638</td>\n",
       "      <td>0.181862</td>\n",
       "      <td>-0.031920</td>\n",
       "      <td>-0.070617</td>\n",
       "      <td>-0.185980</td>\n",
       "      <td>-0.188546</td>\n",
       "      <td>0.275131</td>\n",
       "      <td>0.590515</td>\n",
       "      <td>0.735936</td>\n",
       "      <td>1.082675</td>\n",
       "      <td>1.106204</td>\n",
       "      <td>1.156080</td>\n",
       "      <td>1.238652</td>\n",
       "      <td>0.824779</td>\n",
       "      <td>0.543626</td>\n",
       "      <td>0.106370</td>\n",
       "      <td>0.124514</td>\n",
       "      <td>-0.158819</td>\n",
       "      <td>-0.095093</td>\n",
       "      <td>-0.040372</td>\n",
       "      <td>0.147434</td>\n",
       "      <td>0.439599</td>\n",
       "      <td>0.715045</td>\n",
       "      <td>1.065298</td>\n",
       "      <td>1.253656</td>\n",
       "      <td>1.228927</td>\n",
       "      <td>1.264133</td>\n",
       "      <td>1.125588</td>\n",
       "      <td>0.952086</td>\n",
       "      <td>0.901148</td>\n",
       "      <td>0.494685</td>\n",
       "      <td>0.460681</td>\n",
       "      <td>0.390435</td>\n",
       "      <td>0.423011</td>\n",
       "      <td>0.532402</td>\n",
       "      <td>0.385717</td>\n",
       "      <td>0.599606</td>\n",
       "      <td>0.561545</td>\n",
       "      <td>0.678086</td>\n",
       "      <td>0.848950</td>\n",
       "      <td>1.133852</td>\n",
       "      <td>1.041396</td>\n",
       "      <td>1.242806</td>\n",
       "      <td>1.248121</td>\n",
       "      <td>1.331348</td>\n",
       "      <td>1.267123</td>\n",
       "      <td>1.292718</td>\n",
       "    </tr>\n",
       "    <tr>\n",
       "      <th>2</th>\n",
       "      <td>1</td>\n",
       "      <td>0.686081</td>\n",
       "      <td>0.702834</td>\n",
       "      <td>0.637708</td>\n",
       "      <td>0.798416</td>\n",
       "      <td>0.755065</td>\n",
       "      <td>0.705225</td>\n",
       "      <td>0.535391</td>\n",
       "      <td>0.613129</td>\n",
       "      <td>0.549732</td>\n",
       "      <td>0.472387</td>\n",
       "      <td>0.431216</td>\n",
       "      <td>0.388098</td>\n",
       "      <td>0.136963</td>\n",
       "      <td>0.159388</td>\n",
       "      <td>0.182013</td>\n",
       "      <td>0.079372</td>\n",
       "      <td>0.215777</td>\n",
       "      <td>0.188945</td>\n",
       "      <td>0.093792</td>\n",
       "      <td>0.526586</td>\n",
       "      <td>0.614188</td>\n",
       "      <td>0.640183</td>\n",
       "      <td>0.964396</td>\n",
       "      <td>0.989152</td>\n",
       "      <td>1.248713</td>\n",
       "      <td>1.144618</td>\n",
       "      <td>0.946960</td>\n",
       "      <td>0.940729</td>\n",
       "      <td>0.680542</td>\n",
       "      <td>0.375531</td>\n",
       "      <td>0.066544</td>\n",
       "      <td>-0.038222</td>\n",
       "      <td>-0.095559</td>\n",
       "      <td>0.110763</td>\n",
       "      <td>0.012040</td>\n",
       "      <td>0.398041</td>\n",
       "      <td>0.646913</td>\n",
       "      <td>1.051943</td>\n",
       "      <td>1.215543</td>\n",
       "      <td>1.423341</td>\n",
       "      <td>1.406266</td>\n",
       "      <td>1.328694</td>\n",
       "      <td>1.324254</td>\n",
       "      <td>1.272889</td>\n",
       "      <td>1.074786</td>\n",
       "      <td>0.753950</td>\n",
       "      <td>0.539693</td>\n",
       "      <td>0.402041</td>\n",
       "      <td>0.442759</td>\n",
       "      <td>0.487557</td>\n",
       "      <td>0.699007</td>\n",
       "    </tr>\n",
       "    <tr>\n",
       "      <th>3</th>\n",
       "      <td>1</td>\n",
       "      <td>-1.342005</td>\n",
       "      <td>0.018378</td>\n",
       "      <td>-0.097297</td>\n",
       "      <td>-0.020850</td>\n",
       "      <td>-0.083325</td>\n",
       "      <td>-0.268512</td>\n",
       "      <td>-0.486335</td>\n",
       "      <td>-0.731130</td>\n",
       "      <td>-0.924458</td>\n",
       "      <td>-0.995159</td>\n",
       "      <td>-1.352881</td>\n",
       "      <td>-0.903261</td>\n",
       "      <td>-0.982766</td>\n",
       "      <td>-0.544191</td>\n",
       "      <td>-0.129456</td>\n",
       "      <td>-0.228479</td>\n",
       "      <td>-0.147327</td>\n",
       "      <td>-0.201722</td>\n",
       "      <td>-0.137298</td>\n",
       "      <td>-0.192488</td>\n",
       "      <td>-0.292842</td>\n",
       "      <td>-0.211820</td>\n",
       "      <td>-0.296235</td>\n",
       "      <td>-0.229171</td>\n",
       "      <td>-0.371834</td>\n",
       "      <td>-0.513974</td>\n",
       "      <td>-0.854578</td>\n",
       "      <td>-1.066007</td>\n",
       "      <td>-1.246917</td>\n",
       "      <td>-1.334472</td>\n",
       "      <td>-1.279333</td>\n",
       "      <td>-1.174180</td>\n",
       "      <td>-1.017749</td>\n",
       "      <td>-0.706597</td>\n",
       "      <td>-0.556024</td>\n",
       "      <td>-0.336431</td>\n",
       "      <td>-0.300222</td>\n",
       "      <td>-0.576670</td>\n",
       "      <td>-0.411209</td>\n",
       "      <td>-0.403739</td>\n",
       "      <td>-0.604313</td>\n",
       "      <td>-0.386676</td>\n",
       "      <td>-0.357946</td>\n",
       "      <td>-0.612069</td>\n",
       "      <td>-0.698063</td>\n",
       "      <td>-0.891789</td>\n",
       "      <td>-1.127624</td>\n",
       "      <td>-1.535678</td>\n",
       "      <td>-1.490786</td>\n",
       "      <td>-1.856840</td>\n",
       "      <td>-1.441472</td>\n",
       "    </tr>\n",
       "    <tr>\n",
       "      <th>4</th>\n",
       "      <td>1</td>\n",
       "      <td>-0.241418</td>\n",
       "      <td>0.463120</td>\n",
       "      <td>0.665307</td>\n",
       "      <td>0.446953</td>\n",
       "      <td>0.480780</td>\n",
       "      <td>0.392500</td>\n",
       "      <td>0.309231</td>\n",
       "      <td>0.158462</td>\n",
       "      <td>0.190963</td>\n",
       "      <td>0.273600</td>\n",
       "      <td>0.198676</td>\n",
       "      <td>0.266028</td>\n",
       "      <td>0.081072</td>\n",
       "      <td>0.081875</td>\n",
       "      <td>-0.064353</td>\n",
       "      <td>-0.455680</td>\n",
       "      <td>-0.497878</td>\n",
       "      <td>-0.698136</td>\n",
       "      <td>-0.764494</td>\n",
       "      <td>-0.622500</td>\n",
       "      <td>-0.424946</td>\n",
       "      <td>-0.450938</td>\n",
       "      <td>-0.072250</td>\n",
       "      <td>-0.037033</td>\n",
       "      <td>0.092286</td>\n",
       "      <td>0.057471</td>\n",
       "      <td>0.010761</td>\n",
       "      <td>-0.004932</td>\n",
       "      <td>0.265042</td>\n",
       "      <td>0.462263</td>\n",
       "      <td>0.372700</td>\n",
       "      <td>0.663679</td>\n",
       "      <td>0.591787</td>\n",
       "      <td>0.625008</td>\n",
       "      <td>0.572981</td>\n",
       "      <td>0.526948</td>\n",
       "      <td>0.150152</td>\n",
       "      <td>0.207772</td>\n",
       "      <td>-0.021719</td>\n",
       "      <td>-0.155733</td>\n",
       "      <td>-0.292606</td>\n",
       "      <td>-0.174944</td>\n",
       "      <td>-0.529541</td>\n",
       "      <td>-0.191921</td>\n",
       "      <td>-0.258093</td>\n",
       "      <td>-0.542403</td>\n",
       "      <td>-0.414866</td>\n",
       "      <td>-0.485580</td>\n",
       "      <td>-0.768820</td>\n",
       "      <td>-0.662573</td>\n",
       "      <td>-0.211837</td>\n",
       "    </tr>\n",
       "  </tbody>\n",
       "</table>\n",
       "</div>"
      ],
      "text/plain": [
       "   w         y         0         1  ...        46        47        48        49\n",
       "0  1  0.483130  0.790980  0.702555  ...  1.195431  1.195992  1.165327  0.771110\n",
       "1  1  1.135624  0.765286  0.604512  ...  1.248121  1.331348  1.267123  1.292718\n",
       "2  1  0.686081  0.702834  0.637708  ...  0.402041  0.442759  0.487557  0.699007\n",
       "3  1 -1.342005  0.018378 -0.097297  ... -1.535678 -1.490786 -1.856840 -1.441472\n",
       "4  1 -0.241418  0.463120  0.665307  ... -0.485580 -0.768820 -0.662573 -0.211837\n",
       "\n",
       "[5 rows x 52 columns]"
      ]
     },
     "execution_count": 8,
     "metadata": {
      "tags": []
     },
     "output_type": "execute_result"
    }
   ],
   "source": [
    "train.head()"
   ]
  },
  {
   "cell_type": "markdown",
   "metadata": {
    "id": "burning-chassis"
   },
   "source": [
    "### Data Import & Visualization"
   ]
  },
  {
   "cell_type": "markdown",
   "metadata": {
    "id": "impossible-monte"
   },
   "source": [
    "To make this notebook's output stable across runs"
   ]
  },
  {
   "cell_type": "code",
   "execution_count": 9,
   "metadata": {
    "id": "premium-disaster",
    "jupyter": {
     "outputs_hidden": true
    }
   },
   "outputs": [],
   "source": [
    "np.random.seed(42)"
   ]
  },
  {
   "cell_type": "markdown",
   "metadata": {
    "id": "handmade-savannah"
   },
   "source": [
    "*Use only without running on Google Colab*\n",
    "\n",
    "\n",
    "Importing test and train dataset, using `os.getcwd()` to get current working directory and then finding the .csv(s) in the `data` subfolder"
   ]
  },
  {
   "cell_type": "code",
   "execution_count": 10,
   "metadata": {
    "id": "public-seller",
    "jupyter": {
     "outputs_hidden": true
    }
   },
   "outputs": [],
   "source": [
    "#test = pd.read_csv(os.getcwd()+\"/data/test.csv\")\n",
    "#train =pd.read_csv(os.getcwd()+\"/data/train.csv\")"
   ]
  },
  {
   "cell_type": "markdown",
   "metadata": {
    "id": "pretty-deadline"
   },
   "source": [
    "Using `.head()` to preview train and test datasets"
   ]
  },
  {
   "cell_type": "code",
   "execution_count": 11,
   "metadata": {
    "colab": {
     "base_uri": "https://localhost:8080/",
     "height": 224
    },
    "id": "demographic-berry",
    "jupyter": {
     "outputs_hidden": true
    },
    "outputId": "bf4ac828-526d-42f3-abf6-02d1e37278c8",
    "scrolled": true
   },
   "outputs": [
    {
     "data": {
      "text/html": [
       "<div>\n",
       "<style scoped>\n",
       "    .dataframe tbody tr th:only-of-type {\n",
       "        vertical-align: middle;\n",
       "    }\n",
       "\n",
       "    .dataframe tbody tr th {\n",
       "        vertical-align: top;\n",
       "    }\n",
       "\n",
       "    .dataframe thead th {\n",
       "        text-align: right;\n",
       "    }\n",
       "</style>\n",
       "<table border=\"1\" class=\"dataframe\">\n",
       "  <thead>\n",
       "    <tr style=\"text-align: right;\">\n",
       "      <th></th>\n",
       "      <th>w</th>\n",
       "      <th>y</th>\n",
       "      <th>0</th>\n",
       "      <th>1</th>\n",
       "      <th>2</th>\n",
       "      <th>3</th>\n",
       "      <th>4</th>\n",
       "      <th>5</th>\n",
       "      <th>6</th>\n",
       "      <th>7</th>\n",
       "      <th>8</th>\n",
       "      <th>9</th>\n",
       "      <th>10</th>\n",
       "      <th>11</th>\n",
       "      <th>12</th>\n",
       "      <th>13</th>\n",
       "      <th>14</th>\n",
       "      <th>15</th>\n",
       "      <th>16</th>\n",
       "      <th>17</th>\n",
       "      <th>18</th>\n",
       "      <th>19</th>\n",
       "      <th>20</th>\n",
       "      <th>21</th>\n",
       "      <th>22</th>\n",
       "      <th>23</th>\n",
       "      <th>24</th>\n",
       "      <th>25</th>\n",
       "      <th>26</th>\n",
       "      <th>27</th>\n",
       "      <th>28</th>\n",
       "      <th>29</th>\n",
       "      <th>30</th>\n",
       "      <th>31</th>\n",
       "      <th>32</th>\n",
       "      <th>33</th>\n",
       "      <th>34</th>\n",
       "      <th>35</th>\n",
       "      <th>36</th>\n",
       "      <th>37</th>\n",
       "      <th>38</th>\n",
       "      <th>39</th>\n",
       "      <th>40</th>\n",
       "      <th>41</th>\n",
       "      <th>42</th>\n",
       "      <th>43</th>\n",
       "      <th>44</th>\n",
       "      <th>45</th>\n",
       "      <th>46</th>\n",
       "      <th>47</th>\n",
       "      <th>48</th>\n",
       "      <th>49</th>\n",
       "    </tr>\n",
       "  </thead>\n",
       "  <tbody>\n",
       "    <tr>\n",
       "      <th>0</th>\n",
       "      <td>1</td>\n",
       "      <td>0.483130</td>\n",
       "      <td>0.790980</td>\n",
       "      <td>0.702555</td>\n",
       "      <td>0.528220</td>\n",
       "      <td>0.298746</td>\n",
       "      <td>0.025488</td>\n",
       "      <td>-0.173480</td>\n",
       "      <td>-0.245290</td>\n",
       "      <td>-0.405057</td>\n",
       "      <td>-0.371818</td>\n",
       "      <td>-0.032334</td>\n",
       "      <td>0.140554</td>\n",
       "      <td>0.390325</td>\n",
       "      <td>0.423380</td>\n",
       "      <td>0.433935</td>\n",
       "      <td>0.422138</td>\n",
       "      <td>0.562708</td>\n",
       "      <td>0.724054</td>\n",
       "      <td>0.870796</td>\n",
       "      <td>0.802751</td>\n",
       "      <td>0.769475</td>\n",
       "      <td>0.901774</td>\n",
       "      <td>0.982177</td>\n",
       "      <td>1.053321</td>\n",
       "      <td>1.161209</td>\n",
       "      <td>1.046285</td>\n",
       "      <td>0.720832</td>\n",
       "      <td>0.531725</td>\n",
       "      <td>0.212623</td>\n",
       "      <td>-0.055058</td>\n",
       "      <td>0.195018</td>\n",
       "      <td>-0.223580</td>\n",
       "      <td>-0.094476</td>\n",
       "      <td>0.415094</td>\n",
       "      <td>0.416219</td>\n",
       "      <td>0.478895</td>\n",
       "      <td>0.807062</td>\n",
       "      <td>0.920355</td>\n",
       "      <td>0.773632</td>\n",
       "      <td>0.892809</td>\n",
       "      <td>1.070225</td>\n",
       "      <td>0.954288</td>\n",
       "      <td>1.143901</td>\n",
       "      <td>1.359252</td>\n",
       "      <td>1.081061</td>\n",
       "      <td>1.364409</td>\n",
       "      <td>1.449354</td>\n",
       "      <td>1.195431</td>\n",
       "      <td>1.195992</td>\n",
       "      <td>1.165327</td>\n",
       "      <td>0.771110</td>\n",
       "    </tr>\n",
       "    <tr>\n",
       "      <th>1</th>\n",
       "      <td>1</td>\n",
       "      <td>1.135624</td>\n",
       "      <td>0.765286</td>\n",
       "      <td>0.604512</td>\n",
       "      <td>0.414197</td>\n",
       "      <td>0.241638</td>\n",
       "      <td>0.181862</td>\n",
       "      <td>-0.031920</td>\n",
       "      <td>-0.070617</td>\n",
       "      <td>-0.185980</td>\n",
       "      <td>-0.188546</td>\n",
       "      <td>0.275131</td>\n",
       "      <td>0.590515</td>\n",
       "      <td>0.735936</td>\n",
       "      <td>1.082675</td>\n",
       "      <td>1.106204</td>\n",
       "      <td>1.156080</td>\n",
       "      <td>1.238652</td>\n",
       "      <td>0.824779</td>\n",
       "      <td>0.543626</td>\n",
       "      <td>0.106370</td>\n",
       "      <td>0.124514</td>\n",
       "      <td>-0.158819</td>\n",
       "      <td>-0.095093</td>\n",
       "      <td>-0.040372</td>\n",
       "      <td>0.147434</td>\n",
       "      <td>0.439599</td>\n",
       "      <td>0.715045</td>\n",
       "      <td>1.065298</td>\n",
       "      <td>1.253656</td>\n",
       "      <td>1.228927</td>\n",
       "      <td>1.264133</td>\n",
       "      <td>1.125588</td>\n",
       "      <td>0.952086</td>\n",
       "      <td>0.901148</td>\n",
       "      <td>0.494685</td>\n",
       "      <td>0.460681</td>\n",
       "      <td>0.390435</td>\n",
       "      <td>0.423011</td>\n",
       "      <td>0.532402</td>\n",
       "      <td>0.385717</td>\n",
       "      <td>0.599606</td>\n",
       "      <td>0.561545</td>\n",
       "      <td>0.678086</td>\n",
       "      <td>0.848950</td>\n",
       "      <td>1.133852</td>\n",
       "      <td>1.041396</td>\n",
       "      <td>1.242806</td>\n",
       "      <td>1.248121</td>\n",
       "      <td>1.331348</td>\n",
       "      <td>1.267123</td>\n",
       "      <td>1.292718</td>\n",
       "    </tr>\n",
       "    <tr>\n",
       "      <th>2</th>\n",
       "      <td>1</td>\n",
       "      <td>0.686081</td>\n",
       "      <td>0.702834</td>\n",
       "      <td>0.637708</td>\n",
       "      <td>0.798416</td>\n",
       "      <td>0.755065</td>\n",
       "      <td>0.705225</td>\n",
       "      <td>0.535391</td>\n",
       "      <td>0.613129</td>\n",
       "      <td>0.549732</td>\n",
       "      <td>0.472387</td>\n",
       "      <td>0.431216</td>\n",
       "      <td>0.388098</td>\n",
       "      <td>0.136963</td>\n",
       "      <td>0.159388</td>\n",
       "      <td>0.182013</td>\n",
       "      <td>0.079372</td>\n",
       "      <td>0.215777</td>\n",
       "      <td>0.188945</td>\n",
       "      <td>0.093792</td>\n",
       "      <td>0.526586</td>\n",
       "      <td>0.614188</td>\n",
       "      <td>0.640183</td>\n",
       "      <td>0.964396</td>\n",
       "      <td>0.989152</td>\n",
       "      <td>1.248713</td>\n",
       "      <td>1.144618</td>\n",
       "      <td>0.946960</td>\n",
       "      <td>0.940729</td>\n",
       "      <td>0.680542</td>\n",
       "      <td>0.375531</td>\n",
       "      <td>0.066544</td>\n",
       "      <td>-0.038222</td>\n",
       "      <td>-0.095559</td>\n",
       "      <td>0.110763</td>\n",
       "      <td>0.012040</td>\n",
       "      <td>0.398041</td>\n",
       "      <td>0.646913</td>\n",
       "      <td>1.051943</td>\n",
       "      <td>1.215543</td>\n",
       "      <td>1.423341</td>\n",
       "      <td>1.406266</td>\n",
       "      <td>1.328694</td>\n",
       "      <td>1.324254</td>\n",
       "      <td>1.272889</td>\n",
       "      <td>1.074786</td>\n",
       "      <td>0.753950</td>\n",
       "      <td>0.539693</td>\n",
       "      <td>0.402041</td>\n",
       "      <td>0.442759</td>\n",
       "      <td>0.487557</td>\n",
       "      <td>0.699007</td>\n",
       "    </tr>\n",
       "    <tr>\n",
       "      <th>3</th>\n",
       "      <td>1</td>\n",
       "      <td>-1.342005</td>\n",
       "      <td>0.018378</td>\n",
       "      <td>-0.097297</td>\n",
       "      <td>-0.020850</td>\n",
       "      <td>-0.083325</td>\n",
       "      <td>-0.268512</td>\n",
       "      <td>-0.486335</td>\n",
       "      <td>-0.731130</td>\n",
       "      <td>-0.924458</td>\n",
       "      <td>-0.995159</td>\n",
       "      <td>-1.352881</td>\n",
       "      <td>-0.903261</td>\n",
       "      <td>-0.982766</td>\n",
       "      <td>-0.544191</td>\n",
       "      <td>-0.129456</td>\n",
       "      <td>-0.228479</td>\n",
       "      <td>-0.147327</td>\n",
       "      <td>-0.201722</td>\n",
       "      <td>-0.137298</td>\n",
       "      <td>-0.192488</td>\n",
       "      <td>-0.292842</td>\n",
       "      <td>-0.211820</td>\n",
       "      <td>-0.296235</td>\n",
       "      <td>-0.229171</td>\n",
       "      <td>-0.371834</td>\n",
       "      <td>-0.513974</td>\n",
       "      <td>-0.854578</td>\n",
       "      <td>-1.066007</td>\n",
       "      <td>-1.246917</td>\n",
       "      <td>-1.334472</td>\n",
       "      <td>-1.279333</td>\n",
       "      <td>-1.174180</td>\n",
       "      <td>-1.017749</td>\n",
       "      <td>-0.706597</td>\n",
       "      <td>-0.556024</td>\n",
       "      <td>-0.336431</td>\n",
       "      <td>-0.300222</td>\n",
       "      <td>-0.576670</td>\n",
       "      <td>-0.411209</td>\n",
       "      <td>-0.403739</td>\n",
       "      <td>-0.604313</td>\n",
       "      <td>-0.386676</td>\n",
       "      <td>-0.357946</td>\n",
       "      <td>-0.612069</td>\n",
       "      <td>-0.698063</td>\n",
       "      <td>-0.891789</td>\n",
       "      <td>-1.127624</td>\n",
       "      <td>-1.535678</td>\n",
       "      <td>-1.490786</td>\n",
       "      <td>-1.856840</td>\n",
       "      <td>-1.441472</td>\n",
       "    </tr>\n",
       "    <tr>\n",
       "      <th>4</th>\n",
       "      <td>1</td>\n",
       "      <td>-0.241418</td>\n",
       "      <td>0.463120</td>\n",
       "      <td>0.665307</td>\n",
       "      <td>0.446953</td>\n",
       "      <td>0.480780</td>\n",
       "      <td>0.392500</td>\n",
       "      <td>0.309231</td>\n",
       "      <td>0.158462</td>\n",
       "      <td>0.190963</td>\n",
       "      <td>0.273600</td>\n",
       "      <td>0.198676</td>\n",
       "      <td>0.266028</td>\n",
       "      <td>0.081072</td>\n",
       "      <td>0.081875</td>\n",
       "      <td>-0.064353</td>\n",
       "      <td>-0.455680</td>\n",
       "      <td>-0.497878</td>\n",
       "      <td>-0.698136</td>\n",
       "      <td>-0.764494</td>\n",
       "      <td>-0.622500</td>\n",
       "      <td>-0.424946</td>\n",
       "      <td>-0.450938</td>\n",
       "      <td>-0.072250</td>\n",
       "      <td>-0.037033</td>\n",
       "      <td>0.092286</td>\n",
       "      <td>0.057471</td>\n",
       "      <td>0.010761</td>\n",
       "      <td>-0.004932</td>\n",
       "      <td>0.265042</td>\n",
       "      <td>0.462263</td>\n",
       "      <td>0.372700</td>\n",
       "      <td>0.663679</td>\n",
       "      <td>0.591787</td>\n",
       "      <td>0.625008</td>\n",
       "      <td>0.572981</td>\n",
       "      <td>0.526948</td>\n",
       "      <td>0.150152</td>\n",
       "      <td>0.207772</td>\n",
       "      <td>-0.021719</td>\n",
       "      <td>-0.155733</td>\n",
       "      <td>-0.292606</td>\n",
       "      <td>-0.174944</td>\n",
       "      <td>-0.529541</td>\n",
       "      <td>-0.191921</td>\n",
       "      <td>-0.258093</td>\n",
       "      <td>-0.542403</td>\n",
       "      <td>-0.414866</td>\n",
       "      <td>-0.485580</td>\n",
       "      <td>-0.768820</td>\n",
       "      <td>-0.662573</td>\n",
       "      <td>-0.211837</td>\n",
       "    </tr>\n",
       "  </tbody>\n",
       "</table>\n",
       "</div>"
      ],
      "text/plain": [
       "   w         y         0         1  ...        46        47        48        49\n",
       "0  1  0.483130  0.790980  0.702555  ...  1.195431  1.195992  1.165327  0.771110\n",
       "1  1  1.135624  0.765286  0.604512  ...  1.248121  1.331348  1.267123  1.292718\n",
       "2  1  0.686081  0.702834  0.637708  ...  0.402041  0.442759  0.487557  0.699007\n",
       "3  1 -1.342005  0.018378 -0.097297  ... -1.535678 -1.490786 -1.856840 -1.441472\n",
       "4  1 -0.241418  0.463120  0.665307  ... -0.485580 -0.768820 -0.662573 -0.211837\n",
       "\n",
       "[5 rows x 52 columns]"
      ]
     },
     "execution_count": 11,
     "metadata": {
      "tags": []
     },
     "output_type": "execute_result"
    }
   ],
   "source": [
    "train.head()"
   ]
  },
  {
   "cell_type": "code",
   "execution_count": 12,
   "metadata": {
    "colab": {
     "base_uri": "https://localhost:8080/",
     "height": 224
    },
    "id": "average-sample",
    "jupyter": {
     "outputs_hidden": true
    },
    "outputId": "50f1c948-8de7-4655-f609-003275c2d359"
   },
   "outputs": [
    {
     "data": {
      "text/html": [
       "<div>\n",
       "<style scoped>\n",
       "    .dataframe tbody tr th:only-of-type {\n",
       "        vertical-align: middle;\n",
       "    }\n",
       "\n",
       "    .dataframe tbody tr th {\n",
       "        vertical-align: top;\n",
       "    }\n",
       "\n",
       "    .dataframe thead th {\n",
       "        text-align: right;\n",
       "    }\n",
       "</style>\n",
       "<table border=\"1\" class=\"dataframe\">\n",
       "  <thead>\n",
       "    <tr style=\"text-align: right;\">\n",
       "      <th></th>\n",
       "      <th>0</th>\n",
       "      <th>1</th>\n",
       "      <th>2</th>\n",
       "      <th>3</th>\n",
       "      <th>4</th>\n",
       "      <th>5</th>\n",
       "      <th>6</th>\n",
       "      <th>7</th>\n",
       "      <th>8</th>\n",
       "      <th>9</th>\n",
       "      <th>10</th>\n",
       "      <th>11</th>\n",
       "      <th>12</th>\n",
       "      <th>13</th>\n",
       "      <th>14</th>\n",
       "      <th>15</th>\n",
       "      <th>16</th>\n",
       "      <th>17</th>\n",
       "      <th>18</th>\n",
       "      <th>19</th>\n",
       "      <th>20</th>\n",
       "      <th>21</th>\n",
       "      <th>22</th>\n",
       "      <th>23</th>\n",
       "      <th>24</th>\n",
       "      <th>25</th>\n",
       "      <th>26</th>\n",
       "      <th>27</th>\n",
       "      <th>28</th>\n",
       "      <th>29</th>\n",
       "      <th>30</th>\n",
       "      <th>31</th>\n",
       "      <th>32</th>\n",
       "      <th>33</th>\n",
       "      <th>34</th>\n",
       "      <th>35</th>\n",
       "      <th>36</th>\n",
       "      <th>37</th>\n",
       "      <th>38</th>\n",
       "      <th>39</th>\n",
       "      <th>40</th>\n",
       "      <th>41</th>\n",
       "      <th>42</th>\n",
       "      <th>43</th>\n",
       "      <th>44</th>\n",
       "      <th>45</th>\n",
       "      <th>46</th>\n",
       "      <th>47</th>\n",
       "      <th>48</th>\n",
       "      <th>49</th>\n",
       "    </tr>\n",
       "  </thead>\n",
       "  <tbody>\n",
       "    <tr>\n",
       "      <th>0</th>\n",
       "      <td>-0.670595</td>\n",
       "      <td>-0.839068</td>\n",
       "      <td>-0.734415</td>\n",
       "      <td>-0.587261</td>\n",
       "      <td>-0.788800</td>\n",
       "      <td>-0.975857</td>\n",
       "      <td>-0.774088</td>\n",
       "      <td>-1.021334</td>\n",
       "      <td>-1.110286</td>\n",
       "      <td>-0.893337</td>\n",
       "      <td>-1.064826</td>\n",
       "      <td>-0.535143</td>\n",
       "      <td>-0.451747</td>\n",
       "      <td>-0.319884</td>\n",
       "      <td>-0.230023</td>\n",
       "      <td>-0.309316</td>\n",
       "      <td>-0.423359</td>\n",
       "      <td>-0.483201</td>\n",
       "      <td>-0.287368</td>\n",
       "      <td>-0.269882</td>\n",
       "      <td>-0.038282</td>\n",
       "      <td>0.093233</td>\n",
       "      <td>0.047145</td>\n",
       "      <td>-0.100288</td>\n",
       "      <td>-0.348605</td>\n",
       "      <td>-0.581721</td>\n",
       "      <td>-0.616782</td>\n",
       "      <td>-0.484339</td>\n",
       "      <td>-0.428753</td>\n",
       "      <td>-0.477449</td>\n",
       "      <td>-0.917499</td>\n",
       "      <td>-0.729484</td>\n",
       "      <td>-1.059364</td>\n",
       "      <td>-1.331153</td>\n",
       "      <td>-1.376657</td>\n",
       "      <td>-1.481712</td>\n",
       "      <td>-1.244721</td>\n",
       "      <td>-1.216135</td>\n",
       "      <td>-1.194285</td>\n",
       "      <td>-0.936693</td>\n",
       "      <td>-0.997627</td>\n",
       "      <td>-1.103794</td>\n",
       "      <td>-1.092988</td>\n",
       "      <td>-0.989165</td>\n",
       "      <td>-0.827528</td>\n",
       "      <td>-0.813729</td>\n",
       "      <td>-0.532411</td>\n",
       "      <td>-0.289483</td>\n",
       "      <td>-0.407720</td>\n",
       "      <td>-0.407505</td>\n",
       "    </tr>\n",
       "    <tr>\n",
       "      <th>1</th>\n",
       "      <td>0.188165</td>\n",
       "      <td>0.166410</td>\n",
       "      <td>0.321011</td>\n",
       "      <td>0.318078</td>\n",
       "      <td>0.641710</td>\n",
       "      <td>0.951932</td>\n",
       "      <td>1.170069</td>\n",
       "      <td>1.177711</td>\n",
       "      <td>0.987763</td>\n",
       "      <td>0.981345</td>\n",
       "      <td>0.651526</td>\n",
       "      <td>0.944097</td>\n",
       "      <td>0.665110</td>\n",
       "      <td>0.534558</td>\n",
       "      <td>0.575689</td>\n",
       "      <td>0.563507</td>\n",
       "      <td>0.699194</td>\n",
       "      <td>0.283708</td>\n",
       "      <td>0.277885</td>\n",
       "      <td>0.028674</td>\n",
       "      <td>-0.133431</td>\n",
       "      <td>-0.128956</td>\n",
       "      <td>0.092359</td>\n",
       "      <td>0.388095</td>\n",
       "      <td>0.327306</td>\n",
       "      <td>0.551006</td>\n",
       "      <td>0.593850</td>\n",
       "      <td>0.771223</td>\n",
       "      <td>0.583534</td>\n",
       "      <td>0.587207</td>\n",
       "      <td>0.614839</td>\n",
       "      <td>0.910459</td>\n",
       "      <td>1.191987</td>\n",
       "      <td>1.343534</td>\n",
       "      <td>1.274894</td>\n",
       "      <td>1.460262</td>\n",
       "      <td>1.289660</td>\n",
       "      <td>1.166410</td>\n",
       "      <td>0.974349</td>\n",
       "      <td>1.047257</td>\n",
       "      <td>0.743405</td>\n",
       "      <td>0.916254</td>\n",
       "      <td>0.866453</td>\n",
       "      <td>0.953677</td>\n",
       "      <td>0.716259</td>\n",
       "      <td>0.692816</td>\n",
       "      <td>0.446713</td>\n",
       "      <td>0.539733</td>\n",
       "      <td>0.279293</td>\n",
       "      <td>0.180641</td>\n",
       "    </tr>\n",
       "    <tr>\n",
       "      <th>2</th>\n",
       "      <td>0.886510</td>\n",
       "      <td>0.760716</td>\n",
       "      <td>0.751800</td>\n",
       "      <td>0.052198</td>\n",
       "      <td>-0.050958</td>\n",
       "      <td>-0.140734</td>\n",
       "      <td>-0.173480</td>\n",
       "      <td>0.178508</td>\n",
       "      <td>0.198187</td>\n",
       "      <td>0.357906</td>\n",
       "      <td>0.288508</td>\n",
       "      <td>0.385058</td>\n",
       "      <td>0.514924</td>\n",
       "      <td>0.439050</td>\n",
       "      <td>0.907307</td>\n",
       "      <td>1.056502</td>\n",
       "      <td>1.200835</td>\n",
       "      <td>1.038399</td>\n",
       "      <td>0.759615</td>\n",
       "      <td>0.825739</td>\n",
       "      <td>0.463751</td>\n",
       "      <td>0.156036</td>\n",
       "      <td>0.125701</td>\n",
       "      <td>0.116938</td>\n",
       "      <td>0.180331</td>\n",
       "      <td>0.330021</td>\n",
       "      <td>0.337901</td>\n",
       "      <td>0.357731</td>\n",
       "      <td>0.397525</td>\n",
       "      <td>0.600081</td>\n",
       "      <td>0.742583</td>\n",
       "      <td>1.025730</td>\n",
       "      <td>1.323599</td>\n",
       "      <td>1.438235</td>\n",
       "      <td>1.236999</td>\n",
       "      <td>0.983050</td>\n",
       "      <td>0.805176</td>\n",
       "      <td>0.403192</td>\n",
       "      <td>0.398094</td>\n",
       "      <td>0.280344</td>\n",
       "      <td>0.444142</td>\n",
       "      <td>0.492294</td>\n",
       "      <td>0.573348</td>\n",
       "      <td>0.546323</td>\n",
       "      <td>0.373874</td>\n",
       "      <td>0.699132</td>\n",
       "      <td>0.808303</td>\n",
       "      <td>1.118522</td>\n",
       "      <td>1.284887</td>\n",
       "      <td>1.541929</td>\n",
       "    </tr>\n",
       "    <tr>\n",
       "      <th>3</th>\n",
       "      <td>-0.187722</td>\n",
       "      <td>0.030199</td>\n",
       "      <td>-0.072558</td>\n",
       "      <td>-0.098400</td>\n",
       "      <td>-0.110795</td>\n",
       "      <td>-0.127632</td>\n",
       "      <td>-0.241193</td>\n",
       "      <td>-0.374608</td>\n",
       "      <td>-0.651771</td>\n",
       "      <td>-0.513491</td>\n",
       "      <td>-0.799969</td>\n",
       "      <td>-0.993030</td>\n",
       "      <td>-1.259195</td>\n",
       "      <td>-0.939397</td>\n",
       "      <td>-0.911043</td>\n",
       "      <td>-0.756382</td>\n",
       "      <td>-0.324765</td>\n",
       "      <td>-0.044222</td>\n",
       "      <td>-0.056141</td>\n",
       "      <td>0.057031</td>\n",
       "      <td>0.161459</td>\n",
       "      <td>-0.140535</td>\n",
       "      <td>-0.131395</td>\n",
       "      <td>-0.392840</td>\n",
       "      <td>-0.733964</td>\n",
       "      <td>-0.843351</td>\n",
       "      <td>-1.050084</td>\n",
       "      <td>-0.973848</td>\n",
       "      <td>-0.954250</td>\n",
       "      <td>-0.923576</td>\n",
       "      <td>-1.101400</td>\n",
       "      <td>-0.974370</td>\n",
       "      <td>-0.795471</td>\n",
       "      <td>-0.862259</td>\n",
       "      <td>-0.696164</td>\n",
       "      <td>-0.597515</td>\n",
       "      <td>-0.449067</td>\n",
       "      <td>-0.146809</td>\n",
       "      <td>-0.147430</td>\n",
       "      <td>-0.188590</td>\n",
       "      <td>-0.340927</td>\n",
       "      <td>-0.268253</td>\n",
       "      <td>-0.654777</td>\n",
       "      <td>-1.133722</td>\n",
       "      <td>-1.484557</td>\n",
       "      <td>-1.446644</td>\n",
       "      <td>-1.654337</td>\n",
       "      <td>-1.521009</td>\n",
       "      <td>-1.593825</td>\n",
       "      <td>-1.110684</td>\n",
       "    </tr>\n",
       "    <tr>\n",
       "      <th>4</th>\n",
       "      <td>0.248822</td>\n",
       "      <td>0.168815</td>\n",
       "      <td>0.260804</td>\n",
       "      <td>0.505885</td>\n",
       "      <td>0.471486</td>\n",
       "      <td>1.018661</td>\n",
       "      <td>0.971406</td>\n",
       "      <td>1.062348</td>\n",
       "      <td>0.986871</td>\n",
       "      <td>0.947982</td>\n",
       "      <td>0.593847</td>\n",
       "      <td>0.897236</td>\n",
       "      <td>0.581241</td>\n",
       "      <td>0.701187</td>\n",
       "      <td>0.726811</td>\n",
       "      <td>0.488009</td>\n",
       "      <td>0.252971</td>\n",
       "      <td>0.110300</td>\n",
       "      <td>-0.160044</td>\n",
       "      <td>-0.143630</td>\n",
       "      <td>-0.074790</td>\n",
       "      <td>-0.014761</td>\n",
       "      <td>0.166772</td>\n",
       "      <td>0.609277</td>\n",
       "      <td>0.690161</td>\n",
       "      <td>0.570915</td>\n",
       "      <td>0.410520</td>\n",
       "      <td>0.653567</td>\n",
       "      <td>0.666413</td>\n",
       "      <td>0.969931</td>\n",
       "      <td>1.175351</td>\n",
       "      <td>1.504666</td>\n",
       "      <td>1.350586</td>\n",
       "      <td>0.995956</td>\n",
       "      <td>1.154917</td>\n",
       "      <td>0.795522</td>\n",
       "      <td>0.731462</td>\n",
       "      <td>0.753015</td>\n",
       "      <td>0.842744</td>\n",
       "      <td>0.655751</td>\n",
       "      <td>0.422044</td>\n",
       "      <td>0.688196</td>\n",
       "      <td>0.382416</td>\n",
       "      <td>0.344843</td>\n",
       "      <td>0.177595</td>\n",
       "      <td>0.330549</td>\n",
       "      <td>0.595061</td>\n",
       "      <td>0.884860</td>\n",
       "      <td>1.125103</td>\n",
       "      <td>1.220779</td>\n",
       "    </tr>\n",
       "  </tbody>\n",
       "</table>\n",
       "</div>"
      ],
      "text/plain": [
       "          0         1         2  ...        47        48        49\n",
       "0 -0.670595 -0.839068 -0.734415  ... -0.289483 -0.407720 -0.407505\n",
       "1  0.188165  0.166410  0.321011  ...  0.539733  0.279293  0.180641\n",
       "2  0.886510  0.760716  0.751800  ...  1.118522  1.284887  1.541929\n",
       "3 -0.187722  0.030199 -0.072558  ... -1.521009 -1.593825 -1.110684\n",
       "4  0.248822  0.168815  0.260804  ...  0.884860  1.125103  1.220779\n",
       "\n",
       "[5 rows x 50 columns]"
      ]
     },
     "execution_count": 12,
     "metadata": {
      "tags": []
     },
     "output_type": "execute_result"
    }
   ],
   "source": [
    "test.head()"
   ]
  },
  {
   "cell_type": "markdown",
   "metadata": {
    "id": "positive-shipping"
   },
   "source": [
    "We now drop the `w` label (as it is not useful for our model)"
   ]
  },
  {
   "cell_type": "code",
   "execution_count": 13,
   "metadata": {
    "colab": {
     "base_uri": "https://localhost:8080/",
     "height": 224
    },
    "id": "urban-satisfaction",
    "jupyter": {
     "outputs_hidden": true
    },
    "outputId": "18c43cac-da76-42c6-c92f-ea8747b60440"
   },
   "outputs": [
    {
     "data": {
      "text/html": [
       "<div>\n",
       "<style scoped>\n",
       "    .dataframe tbody tr th:only-of-type {\n",
       "        vertical-align: middle;\n",
       "    }\n",
       "\n",
       "    .dataframe tbody tr th {\n",
       "        vertical-align: top;\n",
       "    }\n",
       "\n",
       "    .dataframe thead th {\n",
       "        text-align: right;\n",
       "    }\n",
       "</style>\n",
       "<table border=\"1\" class=\"dataframe\">\n",
       "  <thead>\n",
       "    <tr style=\"text-align: right;\">\n",
       "      <th></th>\n",
       "      <th>y</th>\n",
       "      <th>0</th>\n",
       "      <th>1</th>\n",
       "      <th>2</th>\n",
       "      <th>3</th>\n",
       "      <th>4</th>\n",
       "      <th>5</th>\n",
       "      <th>6</th>\n",
       "      <th>7</th>\n",
       "      <th>8</th>\n",
       "      <th>9</th>\n",
       "      <th>10</th>\n",
       "      <th>11</th>\n",
       "      <th>12</th>\n",
       "      <th>13</th>\n",
       "      <th>14</th>\n",
       "      <th>15</th>\n",
       "      <th>16</th>\n",
       "      <th>17</th>\n",
       "      <th>18</th>\n",
       "      <th>19</th>\n",
       "      <th>20</th>\n",
       "      <th>21</th>\n",
       "      <th>22</th>\n",
       "      <th>23</th>\n",
       "      <th>24</th>\n",
       "      <th>25</th>\n",
       "      <th>26</th>\n",
       "      <th>27</th>\n",
       "      <th>28</th>\n",
       "      <th>29</th>\n",
       "      <th>30</th>\n",
       "      <th>31</th>\n",
       "      <th>32</th>\n",
       "      <th>33</th>\n",
       "      <th>34</th>\n",
       "      <th>35</th>\n",
       "      <th>36</th>\n",
       "      <th>37</th>\n",
       "      <th>38</th>\n",
       "      <th>39</th>\n",
       "      <th>40</th>\n",
       "      <th>41</th>\n",
       "      <th>42</th>\n",
       "      <th>43</th>\n",
       "      <th>44</th>\n",
       "      <th>45</th>\n",
       "      <th>46</th>\n",
       "      <th>47</th>\n",
       "      <th>48</th>\n",
       "      <th>49</th>\n",
       "    </tr>\n",
       "  </thead>\n",
       "  <tbody>\n",
       "    <tr>\n",
       "      <th>0</th>\n",
       "      <td>0.483130</td>\n",
       "      <td>0.790980</td>\n",
       "      <td>0.702555</td>\n",
       "      <td>0.528220</td>\n",
       "      <td>0.298746</td>\n",
       "      <td>0.025488</td>\n",
       "      <td>-0.173480</td>\n",
       "      <td>-0.245290</td>\n",
       "      <td>-0.405057</td>\n",
       "      <td>-0.371818</td>\n",
       "      <td>-0.032334</td>\n",
       "      <td>0.140554</td>\n",
       "      <td>0.390325</td>\n",
       "      <td>0.423380</td>\n",
       "      <td>0.433935</td>\n",
       "      <td>0.422138</td>\n",
       "      <td>0.562708</td>\n",
       "      <td>0.724054</td>\n",
       "      <td>0.870796</td>\n",
       "      <td>0.802751</td>\n",
       "      <td>0.769475</td>\n",
       "      <td>0.901774</td>\n",
       "      <td>0.982177</td>\n",
       "      <td>1.053321</td>\n",
       "      <td>1.161209</td>\n",
       "      <td>1.046285</td>\n",
       "      <td>0.720832</td>\n",
       "      <td>0.531725</td>\n",
       "      <td>0.212623</td>\n",
       "      <td>-0.055058</td>\n",
       "      <td>0.195018</td>\n",
       "      <td>-0.223580</td>\n",
       "      <td>-0.094476</td>\n",
       "      <td>0.415094</td>\n",
       "      <td>0.416219</td>\n",
       "      <td>0.478895</td>\n",
       "      <td>0.807062</td>\n",
       "      <td>0.920355</td>\n",
       "      <td>0.773632</td>\n",
       "      <td>0.892809</td>\n",
       "      <td>1.070225</td>\n",
       "      <td>0.954288</td>\n",
       "      <td>1.143901</td>\n",
       "      <td>1.359252</td>\n",
       "      <td>1.081061</td>\n",
       "      <td>1.364409</td>\n",
       "      <td>1.449354</td>\n",
       "      <td>1.195431</td>\n",
       "      <td>1.195992</td>\n",
       "      <td>1.165327</td>\n",
       "      <td>0.771110</td>\n",
       "    </tr>\n",
       "    <tr>\n",
       "      <th>1</th>\n",
       "      <td>1.135624</td>\n",
       "      <td>0.765286</td>\n",
       "      <td>0.604512</td>\n",
       "      <td>0.414197</td>\n",
       "      <td>0.241638</td>\n",
       "      <td>0.181862</td>\n",
       "      <td>-0.031920</td>\n",
       "      <td>-0.070617</td>\n",
       "      <td>-0.185980</td>\n",
       "      <td>-0.188546</td>\n",
       "      <td>0.275131</td>\n",
       "      <td>0.590515</td>\n",
       "      <td>0.735936</td>\n",
       "      <td>1.082675</td>\n",
       "      <td>1.106204</td>\n",
       "      <td>1.156080</td>\n",
       "      <td>1.238652</td>\n",
       "      <td>0.824779</td>\n",
       "      <td>0.543626</td>\n",
       "      <td>0.106370</td>\n",
       "      <td>0.124514</td>\n",
       "      <td>-0.158819</td>\n",
       "      <td>-0.095093</td>\n",
       "      <td>-0.040372</td>\n",
       "      <td>0.147434</td>\n",
       "      <td>0.439599</td>\n",
       "      <td>0.715045</td>\n",
       "      <td>1.065298</td>\n",
       "      <td>1.253656</td>\n",
       "      <td>1.228927</td>\n",
       "      <td>1.264133</td>\n",
       "      <td>1.125588</td>\n",
       "      <td>0.952086</td>\n",
       "      <td>0.901148</td>\n",
       "      <td>0.494685</td>\n",
       "      <td>0.460681</td>\n",
       "      <td>0.390435</td>\n",
       "      <td>0.423011</td>\n",
       "      <td>0.532402</td>\n",
       "      <td>0.385717</td>\n",
       "      <td>0.599606</td>\n",
       "      <td>0.561545</td>\n",
       "      <td>0.678086</td>\n",
       "      <td>0.848950</td>\n",
       "      <td>1.133852</td>\n",
       "      <td>1.041396</td>\n",
       "      <td>1.242806</td>\n",
       "      <td>1.248121</td>\n",
       "      <td>1.331348</td>\n",
       "      <td>1.267123</td>\n",
       "      <td>1.292718</td>\n",
       "    </tr>\n",
       "    <tr>\n",
       "      <th>2</th>\n",
       "      <td>0.686081</td>\n",
       "      <td>0.702834</td>\n",
       "      <td>0.637708</td>\n",
       "      <td>0.798416</td>\n",
       "      <td>0.755065</td>\n",
       "      <td>0.705225</td>\n",
       "      <td>0.535391</td>\n",
       "      <td>0.613129</td>\n",
       "      <td>0.549732</td>\n",
       "      <td>0.472387</td>\n",
       "      <td>0.431216</td>\n",
       "      <td>0.388098</td>\n",
       "      <td>0.136963</td>\n",
       "      <td>0.159388</td>\n",
       "      <td>0.182013</td>\n",
       "      <td>0.079372</td>\n",
       "      <td>0.215777</td>\n",
       "      <td>0.188945</td>\n",
       "      <td>0.093792</td>\n",
       "      <td>0.526586</td>\n",
       "      <td>0.614188</td>\n",
       "      <td>0.640183</td>\n",
       "      <td>0.964396</td>\n",
       "      <td>0.989152</td>\n",
       "      <td>1.248713</td>\n",
       "      <td>1.144618</td>\n",
       "      <td>0.946960</td>\n",
       "      <td>0.940729</td>\n",
       "      <td>0.680542</td>\n",
       "      <td>0.375531</td>\n",
       "      <td>0.066544</td>\n",
       "      <td>-0.038222</td>\n",
       "      <td>-0.095559</td>\n",
       "      <td>0.110763</td>\n",
       "      <td>0.012040</td>\n",
       "      <td>0.398041</td>\n",
       "      <td>0.646913</td>\n",
       "      <td>1.051943</td>\n",
       "      <td>1.215543</td>\n",
       "      <td>1.423341</td>\n",
       "      <td>1.406266</td>\n",
       "      <td>1.328694</td>\n",
       "      <td>1.324254</td>\n",
       "      <td>1.272889</td>\n",
       "      <td>1.074786</td>\n",
       "      <td>0.753950</td>\n",
       "      <td>0.539693</td>\n",
       "      <td>0.402041</td>\n",
       "      <td>0.442759</td>\n",
       "      <td>0.487557</td>\n",
       "      <td>0.699007</td>\n",
       "    </tr>\n",
       "    <tr>\n",
       "      <th>3</th>\n",
       "      <td>-1.342005</td>\n",
       "      <td>0.018378</td>\n",
       "      <td>-0.097297</td>\n",
       "      <td>-0.020850</td>\n",
       "      <td>-0.083325</td>\n",
       "      <td>-0.268512</td>\n",
       "      <td>-0.486335</td>\n",
       "      <td>-0.731130</td>\n",
       "      <td>-0.924458</td>\n",
       "      <td>-0.995159</td>\n",
       "      <td>-1.352881</td>\n",
       "      <td>-0.903261</td>\n",
       "      <td>-0.982766</td>\n",
       "      <td>-0.544191</td>\n",
       "      <td>-0.129456</td>\n",
       "      <td>-0.228479</td>\n",
       "      <td>-0.147327</td>\n",
       "      <td>-0.201722</td>\n",
       "      <td>-0.137298</td>\n",
       "      <td>-0.192488</td>\n",
       "      <td>-0.292842</td>\n",
       "      <td>-0.211820</td>\n",
       "      <td>-0.296235</td>\n",
       "      <td>-0.229171</td>\n",
       "      <td>-0.371834</td>\n",
       "      <td>-0.513974</td>\n",
       "      <td>-0.854578</td>\n",
       "      <td>-1.066007</td>\n",
       "      <td>-1.246917</td>\n",
       "      <td>-1.334472</td>\n",
       "      <td>-1.279333</td>\n",
       "      <td>-1.174180</td>\n",
       "      <td>-1.017749</td>\n",
       "      <td>-0.706597</td>\n",
       "      <td>-0.556024</td>\n",
       "      <td>-0.336431</td>\n",
       "      <td>-0.300222</td>\n",
       "      <td>-0.576670</td>\n",
       "      <td>-0.411209</td>\n",
       "      <td>-0.403739</td>\n",
       "      <td>-0.604313</td>\n",
       "      <td>-0.386676</td>\n",
       "      <td>-0.357946</td>\n",
       "      <td>-0.612069</td>\n",
       "      <td>-0.698063</td>\n",
       "      <td>-0.891789</td>\n",
       "      <td>-1.127624</td>\n",
       "      <td>-1.535678</td>\n",
       "      <td>-1.490786</td>\n",
       "      <td>-1.856840</td>\n",
       "      <td>-1.441472</td>\n",
       "    </tr>\n",
       "    <tr>\n",
       "      <th>4</th>\n",
       "      <td>-0.241418</td>\n",
       "      <td>0.463120</td>\n",
       "      <td>0.665307</td>\n",
       "      <td>0.446953</td>\n",
       "      <td>0.480780</td>\n",
       "      <td>0.392500</td>\n",
       "      <td>0.309231</td>\n",
       "      <td>0.158462</td>\n",
       "      <td>0.190963</td>\n",
       "      <td>0.273600</td>\n",
       "      <td>0.198676</td>\n",
       "      <td>0.266028</td>\n",
       "      <td>0.081072</td>\n",
       "      <td>0.081875</td>\n",
       "      <td>-0.064353</td>\n",
       "      <td>-0.455680</td>\n",
       "      <td>-0.497878</td>\n",
       "      <td>-0.698136</td>\n",
       "      <td>-0.764494</td>\n",
       "      <td>-0.622500</td>\n",
       "      <td>-0.424946</td>\n",
       "      <td>-0.450938</td>\n",
       "      <td>-0.072250</td>\n",
       "      <td>-0.037033</td>\n",
       "      <td>0.092286</td>\n",
       "      <td>0.057471</td>\n",
       "      <td>0.010761</td>\n",
       "      <td>-0.004932</td>\n",
       "      <td>0.265042</td>\n",
       "      <td>0.462263</td>\n",
       "      <td>0.372700</td>\n",
       "      <td>0.663679</td>\n",
       "      <td>0.591787</td>\n",
       "      <td>0.625008</td>\n",
       "      <td>0.572981</td>\n",
       "      <td>0.526948</td>\n",
       "      <td>0.150152</td>\n",
       "      <td>0.207772</td>\n",
       "      <td>-0.021719</td>\n",
       "      <td>-0.155733</td>\n",
       "      <td>-0.292606</td>\n",
       "      <td>-0.174944</td>\n",
       "      <td>-0.529541</td>\n",
       "      <td>-0.191921</td>\n",
       "      <td>-0.258093</td>\n",
       "      <td>-0.542403</td>\n",
       "      <td>-0.414866</td>\n",
       "      <td>-0.485580</td>\n",
       "      <td>-0.768820</td>\n",
       "      <td>-0.662573</td>\n",
       "      <td>-0.211837</td>\n",
       "    </tr>\n",
       "  </tbody>\n",
       "</table>\n",
       "</div>"
      ],
      "text/plain": [
       "          y         0         1  ...        47        48        49\n",
       "0  0.483130  0.790980  0.702555  ...  1.195992  1.165327  0.771110\n",
       "1  1.135624  0.765286  0.604512  ...  1.331348  1.267123  1.292718\n",
       "2  0.686081  0.702834  0.637708  ...  0.442759  0.487557  0.699007\n",
       "3 -1.342005  0.018378 -0.097297  ... -1.490786 -1.856840 -1.441472\n",
       "4 -0.241418  0.463120  0.665307  ... -0.768820 -0.662573 -0.211837\n",
       "\n",
       "[5 rows x 51 columns]"
      ]
     },
     "execution_count": 13,
     "metadata": {
      "tags": []
     },
     "output_type": "execute_result"
    }
   ],
   "source": [
    "financial_train = train.drop(\"w\", axis=1)\n",
    "financial_train.head()"
   ]
  },
  {
   "cell_type": "markdown",
   "metadata": {
    "id": "organic-wrestling"
   },
   "source": [
    "We now check so that for `null` values in the dataset.\n",
    "\n",
    "We could also use `.info()` to have more information like the Dtypes of the data."
   ]
  },
  {
   "cell_type": "code",
   "execution_count": 14,
   "metadata": {
    "colab": {
     "base_uri": "https://localhost:8080/"
    },
    "id": "exclusive-stopping",
    "jupyter": {
     "outputs_hidden": true
    },
    "outputId": "5e1867c3-3fcd-4cde-95df-a00c2c1962f3"
   },
   "outputs": [
    {
     "data": {
      "text/plain": [
       "False"
      ]
     },
     "execution_count": 14,
     "metadata": {
      "tags": []
     },
     "output_type": "execute_result"
    }
   ],
   "source": [
    "financial_train.isnull().values.any()\n",
    "#financial_train.info()"
   ]
  },
  {
   "cell_type": "markdown",
   "metadata": {
    "id": "favorite-chance"
   },
   "source": [
    "We now print the mean and the standard deviation for `financial_train` and after the plot for the correlation"
   ]
  },
  {
   "cell_type": "code",
   "execution_count": 15,
   "metadata": {
    "colab": {
     "base_uri": "https://localhost:8080/"
    },
    "id": "royal-atlanta",
    "jupyter": {
     "outputs_hidden": true
    },
    "outputId": "688a4a00-cce1-48b2-aeae-1bf8a569ee18",
    "scrolled": false
   },
   "outputs": [
    {
     "name": "stdout",
     "output_type": "stream",
     "text": [
      "mean:\n",
      "\n",
      "[0.07981056 0.01690311 0.01897392 0.02320434 0.02763826 0.03106758\n",
      " 0.03990432 0.04564649 0.05125901 0.05523723 0.05998229 0.06348559\n",
      " 0.06059931 0.0595254  0.05751156 0.05432058 0.04932228 0.04643498\n",
      " 0.04403553 0.0406522  0.04198718 0.0409172  0.04040852 0.04092458\n",
      " 0.0464065  0.04816842 0.05133673 0.05514936 0.05567795 0.05729535\n",
      " 0.05941809 0.05451284 0.05246735 0.05084397 0.04789078 0.04369453\n",
      " 0.04131472 0.03917703 0.03669292 0.03443982 0.0305863  0.03662203\n",
      " 0.03902369 0.04360521 0.04540032 0.04947673 0.05575918 0.06071495\n",
      " 0.07043613 0.07828405 0.08102811] \n",
      "\n",
      " std: \n",
      "\n",
      "[0.91249507 0.52541053 0.52491514 0.52848951 0.53464913 0.53880475\n",
      " 0.5417865  0.54870909 0.55419235 0.55770326 0.56149684 0.560994\n",
      " 0.56543377 0.56992756 0.57350887 0.57712409 0.57916214 0.58666059\n",
      " 0.58964479 0.5969637  0.60356411 0.60950638 0.6191625  0.62788191\n",
      " 0.63977145 0.64798546 0.65465379 0.66365014 0.66996123 0.67578322\n",
      " 0.68552744 0.6940925  0.70205383 0.71153066 0.71805973 0.72637984\n",
      " 0.73511858 0.74174153 0.74887765 0.7607051  0.77048763 0.77962479\n",
      " 0.79185982 0.80142961 0.81351217 0.82554335 0.8329938  0.84780252\n",
      " 0.86211745 0.88122666 0.89348236]\n"
     ]
    }
   ],
   "source": [
    "mean = np.array(financial_train.mean(axis=0))\n",
    "std = np.array(financial_train.std(axis=0))\n",
    "print(f\"mean:\\n\\n{mean} \\n\\n std: \\n\\n{std}\")"
   ]
  },
  {
   "cell_type": "code",
   "execution_count": 16,
   "metadata": {
    "colab": {
     "base_uri": "https://localhost:8080/"
    },
    "id": "hiqrTr34DBqY",
    "outputId": "8d4cddc6-496f-42d9-e541-be0d16415f01"
   },
   "outputs": [
    {
     "data": {
      "text/plain": [
       "y     1.000000\n",
       "49    0.977203\n",
       "48    0.944832\n",
       "47    0.898601\n",
       "46    0.843251\n",
       "31    0.831443\n",
       "30    0.828819\n",
       "32    0.826190\n",
       "29    0.819507\n",
       "33    0.808870\n",
       "28    0.802625\n",
       "45    0.790237\n",
       "27    0.783774\n",
       "34    0.779100\n",
       "26    0.765639\n",
       "44    0.745744\n",
       "25    0.745667\n",
       "35    0.743946\n",
       "24    0.726833\n",
       "23    0.715419\n",
       "36    0.709549\n",
       "43    0.708149\n",
       "22    0.701411\n",
       "21    0.688972\n",
       "42    0.684724\n",
       "20    0.683424\n",
       "37    0.683334\n",
       "18    0.681082\n",
       "19    0.679991\n",
       "17    0.677283\n",
       "16    0.673230\n",
       "41    0.670157\n",
       "15    0.666290\n",
       "38    0.664611\n",
       "40    0.658175\n",
       "14    0.657419\n",
       "39    0.656926\n",
       "13    0.642289\n",
       "12    0.626453\n",
       "2     0.621057\n",
       "1     0.618793\n",
       "3     0.614287\n",
       "0     0.613172\n",
       "11    0.612443\n",
       "4     0.602994\n",
       "10    0.601310\n",
       "5     0.589865\n",
       "9     0.588522\n",
       "6     0.584518\n",
       "7     0.580042\n",
       "8     0.579152\n",
       "Name: y, dtype: float64"
      ]
     },
     "execution_count": 16,
     "metadata": {
      "tags": []
     },
     "output_type": "execute_result"
    }
   ],
   "source": [
    "corr_matrix=financial_train.corr()\n",
    "corr_matrix[\"y\"].sort_values(ascending=False)"
   ]
  },
  {
   "cell_type": "code",
   "execution_count": 17,
   "metadata": {
    "colab": {
     "base_uri": "https://localhost:8080/",
     "height": 275
    },
    "id": "passive-clerk",
    "outputId": "c8194764-204e-46b4-8e88-ef821899a10e"
   },
   "outputs": [
    {
     "data": {
      "image/png": "[encoded data removed]",
      "text/plain": [
       "<Figure size 288x288 with 1 Axes>"
      ]
     },
     "metadata": {
      "needs_background": "light",
      "tags": []
     },
     "output_type": "display_data"
    }
   ],
   "source": [
    "plt.matshow(financial_train.corr())\n",
    "plt.show()"
   ]
  },
  {
   "cell_type": "code",
   "execution_count": 18,
   "metadata": {
    "colab": {
     "base_uri": "https://localhost:8080/",
     "height": 1000
    },
    "id": "GDxvKe5tDqxK",
    "outputId": "ae597746-8595-428b-ebf8-48bcb1ac560a"
   },
   "outputs": [
    {
     "data": {
      "image/png": "[encoded data removed]",
      "text/plain": [
       "<Figure size 2160x2160 with 56 Axes>"
      ]
     },
     "metadata": {
      "needs_background": "light",
      "tags": []
     },
     "output_type": "display_data"
    }
   ],
   "source": [
    "financial_train.hist(bins=50, figsize=(30,30))\n",
    "plt.show()"
   ]
  },
  {
   "cell_type": "markdown",
   "metadata": {
    "id": "welcome-above"
   },
   "source": [
    "### Data Preparation"
   ]
  },
  {
   "cell_type": "markdown",
   "metadata": {
    "id": "chief-milton"
   },
   "source": [
    "We now use `StandardScaler` from `sklearn.preprocessing` to standardize features by removing the mean and scaling to unit variance.\n",
    "\n",
    "The standard score of a sample x is calculated as: $z = \\frac{x-\\mu}{\\sigma}$\n",
    "\n",
    "where $\\mu$ is the mean of the training samples and $\\sigma$ is the standard deviation of the training samples. Then it's printed the first element of the standardized training set that is `fin_train_tr`"
   ]
  },
  {
   "cell_type": "code",
   "execution_count": 19,
   "metadata": {
    "id": "floating-complex",
    "jupyter": {
     "outputs_hidden": true
    }
   },
   "outputs": [],
   "source": [
    "import sklearn\n",
    "from sklearn.preprocessing import StandardScaler\n",
    "\n",
    "scaler = StandardScaler()\n",
    "#print(scaler.fit(financial_train))\n",
    "#print(scaler.transform(financial_train))\n",
    "fin_train_tr = pd.DataFrame(scaler.fit_transform(financial_train))\n",
    "\n",
    "#fin_train_tr.head()"
   ]
  },
  {
   "cell_type": "markdown",
   "metadata": {
    "id": "wound-saudi"
   },
   "source": [
    "And we can check the structure of `fin_train_tr` by looking at its shape"
   ]
  },
  {
   "cell_type": "code",
   "execution_count": 20,
   "metadata": {
    "colab": {
     "base_uri": "https://localhost:8080/"
    },
    "id": "governing-release",
    "jupyter": {
     "outputs_hidden": true
    },
    "outputId": "ea02df6e-3631-4982-e4ae-5e82a91ce55c"
   },
   "outputs": [
    {
     "data": {
      "text/plain": [
       "(7326, 51)"
      ]
     },
     "execution_count": 20,
     "metadata": {
      "tags": []
     },
     "output_type": "execute_result"
    }
   ],
   "source": [
    "fin_train_tr.shape"
   ]
  },
  {
   "cell_type": "markdown",
   "metadata": {
    "id": "FIpvsrIcH1mO"
   },
   "source": [
    "### Train-Test Split"
   ]
  },
  {
   "cell_type": "code",
   "execution_count": 21,
   "metadata": {
    "id": "Pv5N_4pwHU67"
   },
   "outputs": [],
   "source": [
    "from sklearn.model_selection import train_test_split\n",
    "train_set, test_set = train_test_split(fin_train_tr,test_size=0.2,random_state=40)\n",
    "\n",
    "train_set_features = train_set.drop([0], axis =1)\n",
    "train_set_targets = train_set[0]"
   ]
  },
  {
   "cell_type": "markdown",
   "metadata": {
    "id": "handy-tension"
   },
   "source": [
    "### Linear Regression\n"
   ]
  },
  {
   "cell_type": "markdown",
   "metadata": {
    "id": "alpine-dressing"
   },
   "source": [
    "Now, the data prepared before are fitted into the linear regression"
   ]
  },
  {
   "cell_type": "code",
   "execution_count": 22,
   "metadata": {
    "colab": {
     "base_uri": "https://localhost:8080/"
    },
    "id": "competent-estonia",
    "jupyter": {
     "outputs_hidden": true
    },
    "outputId": "4f793f5d-5c00-4780-af7a-3dd21bbc1f60"
   },
   "outputs": [
    {
     "data": {
      "text/plain": [
       "LinearRegression(copy_X=True, fit_intercept=True, n_jobs=None, normalize=False)"
      ]
     },
     "execution_count": 22,
     "metadata": {
      "tags": []
     },
     "output_type": "execute_result"
    }
   ],
   "source": [
    "from sklearn.linear_model import LinearRegression\n",
    "\n",
    "lin_reg=LinearRegression()\n",
    "lin_reg.fit(train_set_features,train_set_targets) "
   ]
  },
  {
   "cell_type": "markdown",
   "metadata": {
    "id": "primary-chart"
   },
   "source": [
    "and the coefficients obtained regressing are printed"
   ]
  },
  {
   "cell_type": "code",
   "execution_count": 23,
   "metadata": {
    "colab": {
     "base_uri": "https://localhost:8080/"
    },
    "id": "hollywood-prompt",
    "jupyter": {
     "outputs_hidden": true
    },
    "outputId": "be277303-a95b-4a21-85f5-e34c5e716804"
   },
   "outputs": [
    {
     "data": {
      "text/plain": [
       "array([-3.85327481e-02, -2.13185137e-02,  2.94062007e-03,  3.99714823e-03,\n",
       "        7.68857322e-03,  4.28506549e-03, -2.74351676e-02, -9.94729652e-04,\n",
       "       -1.58521265e-02, -6.20880004e-03, -1.16677831e-02,  1.44318608e-02,\n",
       "       -9.95634093e-03, -1.64858430e-03,  1.39945085e-02, -1.71060405e-02,\n",
       "        3.68704125e-03, -5.83617702e-03,  2.93781063e-02,  2.79290434e-02,\n",
       "        2.36986499e-02,  3.53350258e-02,  4.60686579e-03,  4.25972334e-03,\n",
       "        1.73774402e-02,  9.02387495e-03,  1.77086030e-02,  4.28066088e-02,\n",
       "        5.37943454e-02,  2.15126551e-02, -6.45894351e-03,  7.11022744e-04,\n",
       "        4.19033187e-03,  2.05114781e-02,  5.95129298e-02,  6.94893989e-02,\n",
       "        5.14702631e-02, -2.33385249e-02, -4.79341408e-02, -6.59879997e-02,\n",
       "       -7.65239899e-04,  3.67625702e-02,  5.94666495e-02,  2.87991584e-02,\n",
       "       -6.27419063e-03, -1.37474983e-01, -1.89821155e-01, -6.14575902e-02,\n",
       "        2.62431453e-01,  7.79222121e-01])"
      ]
     },
     "execution_count": 23,
     "metadata": {
      "tags": []
     },
     "output_type": "execute_result"
    }
   ],
   "source": [
    "lin_reg.coef_"
   ]
  },
  {
   "cell_type": "markdown",
   "metadata": {
    "id": "binding-closing"
   },
   "source": [
    "### Error Evaluation"
   ]
  },
  {
   "cell_type": "markdown",
   "metadata": {
    "id": "knowing-lexington"
   },
   "source": [
    "We firstly compute the MSE"
   ]
  },
  {
   "cell_type": "code",
   "execution_count": 24,
   "metadata": {
    "colab": {
     "base_uri": "https://localhost:8080/"
    },
    "id": "photographic-affiliate",
    "jupyter": {
     "outputs_hidden": true
    },
    "outputId": "c8ab9996-c33a-45f3-c55c-8b14ce57a0a7"
   },
   "outputs": [
    {
     "data": {
      "text/plain": [
       "0.027527395107276722"
      ]
     },
     "execution_count": 24,
     "metadata": {
      "tags": []
     },
     "output_type": "execute_result"
    }
   ],
   "source": [
    "from sklearn.metrics import mean_squared_error\n",
    "\n",
    "test_set_features = test_set.drop([0], axis=1)\n",
    "test_set_targets = test_set[0]\n",
    "\n",
    "predictions = lin_reg.predict(test_set_features)\n",
    "lin_mse=mean_squared_error(test_set_targets, predictions)\n",
    "lin_mse"
   ]
  },
  {
   "cell_type": "markdown",
   "metadata": {
    "id": "distant-madonna"
   },
   "source": [
    "and then MAE"
   ]
  },
  {
   "cell_type": "code",
   "execution_count": 25,
   "metadata": {
    "colab": {
     "base_uri": "https://localhost:8080/"
    },
    "id": "organized-clearance",
    "jupyter": {
     "outputs_hidden": true
    },
    "outputId": "7ff93879-1423-466f-9c45-ca83c4c6f6dc"
   },
   "outputs": [
    {
     "data": {
      "text/plain": [
       "0.1334700877629156"
      ]
     },
     "execution_count": 25,
     "metadata": {
      "tags": []
     },
     "output_type": "execute_result"
    }
   ],
   "source": [
    "from sklearn.metrics import mean_absolute_error\n",
    "\n",
    "lin_mae = mean_absolute_error(test_set_targets,predictions)\n",
    "lin_mae"
   ]
  },
  {
   "cell_type": "markdown",
   "metadata": {
    "id": "k5H-NN-hElXB"
   },
   "source": [
    "### Alternative Model Specification\n"
   ]
  },
  {
   "cell_type": "code",
   "execution_count": 26,
   "metadata": {
    "colab": {
     "base_uri": "https://localhost:8080/"
    },
    "id": "75GCRo5KE0fz",
    "outputId": "d37308ba-71d0-4b18-9e38-28a4b5aa1b61"
   },
   "outputs": [
    {
     "name": "stdout",
     "output_type": "stream",
     "text": [
      "Support Vector Machine Regressor:0.021816756978033817\n",
      "Gradient Boosting Regressor:0.028630600346160023\n",
      "XGBoost Regressor:0.028597322863024355\n",
      "RandomForestRegressor:0.026603789376100393\n",
      "Stochastic Gradient Descent:0.028769777460477475\n",
      "K-Nearest Neighbours Regressor:0.03906336208377472\n"
     ]
    }
   ],
   "source": [
    "from sklearn.ensemble import RandomForestRegressor\n",
    "from sklearn.svm import SVR\n",
    "from sklearn.ensemble import GradientBoostingRegressor\n",
    "from sklearn.linear_model import SGDRegressor\n",
    "from sklearn.neighbors import KNeighborsRegressor\n",
    "from xgboost import XGBRegressor\n",
    "\n",
    "models=dict()\n",
    "\n",
    "models[\"Support Vector Machine Regressor\"]=SVR()\n",
    "models[\"Gradient Boosting Regressor\"]=GradientBoostingRegressor()\n",
    "models[\"XGBoost Regressor\"]=XGBRegressor(objective ='reg:squarederror')\n",
    "models[\"RandomForestRegressor\"]=RandomForestRegressor()\n",
    "models[\"Stochastic Gradient Descent\"]=SGDRegressor()\n",
    "models[\"K-Nearest Neighbours Regressor\"]=KNeighborsRegressor()\n",
    "\n",
    "for model in models:\n",
    "    model_inuse=models[model].fit(train_set_features,train_set_targets)\n",
    "    prediction=model_inuse.predict(test_set_features)\n",
    "    print(f\"{model}:{mean_squared_error(test_set_targets,prediction)}\")"
   ]
  },
  {
   "cell_type": "markdown",
   "metadata": {
    "id": "DfuP-UoRNde9"
   },
   "source": [
    "As we can see from the MSEs, SVR seems to have a lower loss if compared to the other regressors, so we expand the aforementioned model."
   ]
  },
  {
   "cell_type": "code",
   "execution_count": null,
   "metadata": {
    "colab": {
     "base_uri": "https://localhost:8080/"
    },
    "id": "8BHRzXa-NcBM",
    "outputId": "6507b422-5d76-4826-a080-480a3d2b8f23"
   },
   "outputs": [
    {
     "data": {
      "text/plain": [
       "SVR(C=1.2, cache_size=200, coef0=0.0, degree=3, epsilon=0.1, gamma='scale',\n",
       "    kernel='rbf', max_iter=-1, shrinking=True, tol=0.001, verbose=False)"
      ]
     },
     "execution_count": 32,
     "metadata": {
      "tags": []
     },
     "output_type": "execute_result"
    }
   ],
   "source": [
    "svr_reg=SVR(kernel=\"rbf\", C=1.2, epsilon=0.1)\n",
    "svr_reg.fit(train_set_features, train_set_targets)"
   ]
  },
  {
   "cell_type": "markdown",
   "metadata": {
    "id": "rmf5rKguPFQf"
   },
   "source": [
    "We can now predict the values for the test in order to compute the error."
   ]
  },
  {
   "cell_type": "code",
   "execution_count": null,
   "metadata": {
    "id": "hCNkSIuNPNnU"
   },
   "outputs": [],
   "source": [
    "predictions_svr=svr_reg.predict(test_set_features)"
   ]
  },
  {
   "cell_type": "markdown",
   "metadata": {
    "id": "mDbk-NirQCm-"
   },
   "source": [
    "We can now compute the mean squared error"
   ]
  },
  {
   "cell_type": "code",
   "execution_count": null,
   "metadata": {
    "colab": {
     "base_uri": "https://localhost:8080/"
    },
    "id": "uqypHa7TQQ1L",
    "outputId": "607e726c-9f5c-4a19-9411-6d2c492cffad"
   },
   "outputs": [
    {
     "data": {
      "text/plain": [
       "0.021693131552361085"
      ]
     },
     "execution_count": 34,
     "metadata": {
      "tags": []
     },
     "output_type": "execute_result"
    }
   ],
   "source": [
    "svr_error=mean_squared_error(test_set_targets,predictions_svr)\n",
    "svr_error"
   ]
  },
  {
   "cell_type": "markdown",
   "metadata": {
    "id": "qw2omlwiQivJ"
   },
   "source": [
    "With hyperparameter optimization and grid search in particular we can try different combinations of parameters and see which one leads to a better performance.\n",
    "\n",
    "*This may take a while!*"
   ]
  },
  {
   "cell_type": "code",
   "execution_count": null,
   "metadata": {
    "id": "RrTN2ZYBQhaw"
   },
   "outputs": [],
   "source": [
    "from sklearn.model_selection import GridSearchCV\n",
    "param_grid={'C': [0.1,1, 10], 'gamma': [1,0.1,0.01],'kernel': ['rbf']}\n",
    "grid=GridSearchCV(SVR(),param_grid, refit=True, verbose=2)\n",
    "grid.fit(train_set_features, train_set_targets)"
   ]
  },
  {
   "cell_type": "markdown",
   "metadata": {
    "id": "wXiHp7sVSzCg"
   },
   "source": [
    "Let's now see which are the best parameters among the ones we included"
   ]
  },
  {
   "cell_type": "code",
   "execution_count": null,
   "metadata": {
    "id": "N8mn90nXS6P5"
   },
   "outputs": [],
   "source": [
    "grid.best_params_"
   ]
  },
  {
   "cell_type": "markdown",
   "metadata": {
    "id": "r9DR_hV1c213"
   },
   "source": [
    "### LSTM with Tensorflow and Keras"
   ]
  },
  {
   "cell_type": "code",
   "execution_count": null,
   "metadata": {
    "id": "mcVVqdkVfkgQ"
   },
   "outputs": [],
   "source": [
    "financial_train = train.drop(\"y\", axis=1) # drop labels for training \n",
    "y=train[\"y\"].copy()\n",
    "financial_train2 = financial_train.drop(\"w\", axis=1)\n",
    "labels = np.array(y)"
   ]
  },
  {
   "cell_type": "markdown",
   "metadata": {
    "id": "VUy7Ghx1Fe2u"
   },
   "source": [
    "`MinMaxScaler` is imported from `sklearn.preprocessing` to scale the train set according to the formula:\n",
    "$X'_i = \\frac{X_i-X_{min}}{X_{max}-X_{min}}$"
   ]
  },
  {
   "cell_type": "code",
   "execution_count": null,
   "metadata": {
    "id": "tz3AR_25qqzk"
   },
   "outputs": [],
   "source": [
    "from sklearn.preprocessing import MinMaxScaler\n",
    "scaler = MinMaxScaler(feature_range = (0, 1))\n",
    "fin_array = scaler.fit_transform(financial_train2)"
   ]
  },
  {
   "cell_type": "markdown",
   "metadata": {
    "id": "OFZG3bLIJNHL"
   },
   "source": [
    "We now transform data to the correct shape for the algorithm"
   ]
  },
  {
   "cell_type": "code",
   "execution_count": null,
   "metadata": {
    "colab": {
     "base_uri": "https://localhost:8080/"
    },
    "id": "NAzo84BUu0LF",
    "outputId": "0b709d6b-e981-49c5-f734-c5d9a4690fe0"
   },
   "outputs": [
    {
     "data": {
      "text/plain": [
       "(7326, 50, 1)"
      ]
     },
     "execution_count": 37,
     "metadata": {
      "tags": []
     },
     "output_type": "execute_result"
    }
   ],
   "source": [
    "features_set = np.reshape(fin_array, ( fin_array.shape[0],fin_array.shape[1],1))\n",
    "features_set.shape"
   ]
  },
  {
   "cell_type": "markdown",
   "metadata": {
    "id": "Zu6_iR9hJkGK"
   },
   "source": [
    "From `keras` are imported the functions needed"
   ]
  },
  {
   "cell_type": "code",
   "execution_count": null,
   "metadata": {
    "id": "bktiC2sYu_XT"
   },
   "outputs": [],
   "source": [
    "from keras.models import Sequential\n",
    "from keras.layers import Dense, Activation, TimeDistributed, RepeatVector, LSTM, GRU, Dropout\n",
    "from keras.callbacks import EarlyStopping"
   ]
  },
  {
   "cell_type": "markdown",
   "metadata": {
    "id": "5Jy7VPZgJ3wK"
   },
   "source": [
    "We now define the function `early_stopping` which is a callback function that will allow us to stop training the model to avoid overfitting. The parameters consist of:\n",
    "- monitor: Quantity to be monitored.\n",
    "- min_delta: Minimum change in the monitored quantity to qualify as an improvement\n",
    "- patience: Number of epochs with no improvement after which training will be stopped.\n",
    "- restore_best_weights: allow to restore model weights from the epoch with the best value of the monitored quantity"
   ]
  },
  {
   "cell_type": "code",
   "execution_count": null,
   "metadata": {
    "id": "_3HlE2Q3d_CY"
   },
   "outputs": [],
   "source": [
    "early_stopping = EarlyStopping(monitor=\"val_loss\",\n",
    "    min_delta=0.004, \n",
    "    patience=10, \n",
    "    restore_best_weights=True,\n",
    ")"
   ]
  },
  {
   "cell_type": "markdown",
   "metadata": {
    "id": "FrtYRv1W3XOA"
   },
   "source": [
    "In this cell are implemeted all the steps needed to find the best hyperparametes for the model.\n",
    "First we create a function that builds the model which is structured in the same way as the one in the previous cell. \n",
    "Then we define the parameters and their range, that we want to test using the `GridSearchCV` function.\n",
    "\n",
    "*This may take a while to complete!*"
   ]
  },
  {
   "cell_type": "code",
   "execution_count": null,
   "metadata": {
    "id": "L-reXN91eU3E"
   },
   "outputs": [],
   "source": [
    "from keras.wrappers.scikit_learn import KerasClassifier\n",
    "from sklearn.model_selection import GridSearchCV\n",
    "\n",
    "u = 50\n",
    "\n",
    "def build_classifier(optimizer):\n",
    "    model = Sequential()\n",
    "    model.add(LSTM(units=u, return_sequences=\"True\" ,input_shape=(features_set.shape[1], 1)))\n",
    "    model.add(Dropout(0.2))\n",
    "\n",
    "    model.add(LSTM(units=u, return_sequences=\"True\" ,input_shape=(features_set.shape[1], 1)))\n",
    "    model.add(Dropout(0.2))\n",
    "\n",
    "    model.add(LSTM(units=u, input_shape=(features_set.shape[1], 1)))\n",
    "    model.add(Dropout(0.2))\n",
    "    model.add(Dense(1))\n",
    "\n",
    "    model.compile(loss = 'mse', metrics = ['mean_squared_error'])\n",
    "    return model\n",
    "\n",
    "model = KerasClassifier(build_fn=build_classifier)\n",
    "parameters = {'batch_size' : [28,30,32],#,28,30,32], #40, 43, 45, 50\n",
    "              'epochs' : [100,200],\n",
    "              'optimizer' : ['adam', 'Adadelta'], #'SGD', 'RMSprop', 'Adadelta', 'Adagrad', 'Adamax', 'Nadam', 'Ftrl'],\n",
    "              'verbose': [1]}\n",
    "\n",
    "grid_search  = GridSearchCV(estimator = model,\n",
    "                            param_grid = parameters,\n",
    "                            scoring = 'neg_mean_squared_error',\n",
    "                            cv = 2)\n",
    "\n",
    "\n",
    "grid_search = grid_search.fit(features_set,labels)"
   ]
  },
  {
   "cell_type": "markdown",
   "metadata": {
    "id": "ZbDc78hxP_fQ"
   },
   "source": [
    "Once we have obtained the best hyperparameters we print them"
   ]
  },
  {
   "cell_type": "code",
   "execution_count": null,
   "metadata": {
    "colab": {
     "base_uri": "https://localhost:8080/"
    },
    "id": "22_9eiqTeUvb",
    "outputId": "de7e1be3-2cd5-422f-f71c-252c52e06ed6"
   },
   "outputs": [
    {
     "data": {
      "text/plain": [
       "{'batch_size': 25, 'epochs': 70, 'optimizer': 'adam', 'verbose': 2}"
      ]
     },
     "execution_count": 118,
     "metadata": {
      "tags": []
     },
     "output_type": "execute_result"
    }
   ],
   "source": [
    "best_parameters = grid_search.best_params_\n",
    "best_accuracy = grid_search.best_score_\n",
    "best_parameters"
   ]
  },
  {
   "cell_type": "markdown",
   "metadata": {
    "id": "zlisFlqPLEyg"
   },
   "source": [
    "We now start to build the model: we set it up so that it consists of three layers, with first two returning the sequences to the next ones. Dropouts with a $20\\%$ rate are added in order to prevent overfitting. We chose the number of layers by progressively adding more and checking the performance of the model. As optimizer we used `adam` which resulted from the hyperparameters optimization that has been performed before. "
   ]
  },
  {
   "cell_type": "code",
   "execution_count": null,
   "metadata": {
    "id": "MZOvuxreeFYz"
   },
   "outputs": [],
   "source": [
    "model = Sequential()\n",
    "\n",
    "model.add(LSTM(units=55, return_sequences=\"True\",input_shape=(features_set.shape[1], 1)))\n",
    "model.add(Dropout(0.2))\n",
    "\n",
    "model.add(LSTM(units=55, return_sequences=\"True\",input_shape=(features_set.shape[1], 1)))\n",
    "model.add(Dropout(0.2))\n",
    "\n",
    "model.add(LSTM(units=55, input_shape=(features_set.shape[1], 1)))\n",
    "model.add(Dropout(0.2))\n",
    "\n",
    "model.add(Dense(units = 1))\n",
    "model.compile(optimizer = 'adam', loss = 'mean_squared_error')"
   ]
  },
  {
   "cell_type": "markdown",
   "metadata": {
    "id": "x3lNp4_tM_dc"
   },
   "source": [
    "And now we fit the data that have been prepared into the model.\n",
    "(Sometimes) By fitting the model multiple times we achieve better results."
   ]
  },
  {
   "cell_type": "code",
   "execution_count": null,
   "metadata": {
    "colab": {
     "base_uri": "https://localhost:8080/"
    },
    "id": "Eei7AeATeIpe",
    "outputId": "fde32fb5-e349-44c3-dcf7-03c77377ac34"
   },
   "outputs": [
    {
     "name": "stdout",
     "output_type": "stream",
     "text": [
      "Epoch 1/100\n",
      "228/228 - 6s - loss: 0.2314 - val_loss: 0.1026\n",
      "Epoch 2/100\n",
      "228/228 - 2s - loss: 0.1204 - val_loss: 0.0928\n",
      "Epoch 3/100\n",
      "228/228 - 2s - loss: 0.1027 - val_loss: 0.1762\n",
      "Epoch 4/100\n",
      "228/228 - 2s - loss: 0.0892 - val_loss: 0.1242\n",
      "Epoch 5/100\n",
      "228/228 - 2s - loss: 0.0794 - val_loss: 0.0802\n",
      "Epoch 6/100\n",
      "228/228 - 2s - loss: 0.0741 - val_loss: 0.0778\n",
      "Epoch 7/100\n",
      "228/228 - 2s - loss: 0.0706 - val_loss: 0.0563\n",
      "Epoch 8/100\n",
      "228/228 - 2s - loss: 0.0597 - val_loss: 0.0754\n",
      "Epoch 9/100\n",
      "228/228 - 2s - loss: 0.0529 - val_loss: 0.0496\n",
      "Epoch 10/100\n",
      "228/228 - 2s - loss: 0.0442 - val_loss: 0.0525\n",
      "Epoch 11/100\n",
      "228/228 - 2s - loss: 0.0405 - val_loss: 0.0628\n",
      "Epoch 12/100\n",
      "228/228 - 2s - loss: 0.0368 - val_loss: 0.0563\n",
      "Epoch 13/100\n",
      "228/228 - 2s - loss: 0.0354 - val_loss: 0.0555\n",
      "Epoch 14/100\n",
      "228/228 - 2s - loss: 0.0352 - val_loss: 0.0367\n",
      "Epoch 15/100\n",
      "228/228 - 2s - loss: 0.0331 - val_loss: 0.0365\n",
      "Epoch 16/100\n",
      "228/228 - 2s - loss: 0.0318 - val_loss: 0.0377\n",
      "Epoch 17/100\n",
      "228/228 - 2s - loss: 0.0313 - val_loss: 0.0146\n",
      "Epoch 18/100\n",
      "228/228 - 2s - loss: 0.0306 - val_loss: 0.0196\n",
      "Epoch 19/100\n",
      "228/228 - 2s - loss: 0.0297 - val_loss: 0.0128\n",
      "Epoch 20/100\n",
      "228/228 - 2s - loss: 0.0295 - val_loss: 0.0209\n",
      "Epoch 21/100\n",
      "228/228 - 2s - loss: 0.0284 - val_loss: 0.0175\n",
      "Epoch 22/100\n",
      "228/228 - 2s - loss: 0.0290 - val_loss: 0.0197\n",
      "Epoch 23/100\n",
      "228/228 - 2s - loss: 0.0279 - val_loss: 0.0280\n",
      "Epoch 24/100\n",
      "228/228 - 2s - loss: 0.0288 - val_loss: 0.0240\n",
      "Epoch 25/100\n",
      "228/228 - 2s - loss: 0.0291 - val_loss: 0.0209\n",
      "Epoch 26/100\n",
      "228/228 - 2s - loss: 0.0285 - val_loss: 0.0151\n",
      "Epoch 27/100\n",
      "228/228 - 2s - loss: 0.0285 - val_loss: 0.0222\n"
     ]
    },
    {
     "data": {
      "text/plain": [
       "<tensorflow.python.keras.callbacks.History at 0x7f36692d6a90>"
      ]
     },
     "execution_count": 90,
     "metadata": {
      "tags": []
     },
     "output_type": "execute_result"
    }
   ],
   "source": [
    "#n = 1\n",
    "#for i in range(n):\n",
    "model.fit(features_set, labels, epochs = 100, validation_split=0.1, batch_size = 28, verbose=2,  callbacks=[early_stopping])"
   ]
  },
  {
   "cell_type": "markdown",
   "metadata": {
    "id": "OMsEwCt6R6sO"
   },
   "source": [
    "We re-apply the same transformations applied before but now on the test set"
   ]
  },
  {
   "cell_type": "code",
   "execution_count": null,
   "metadata": {
    "colab": {
     "base_uri": "https://localhost:8080/"
    },
    "id": "L4jsCQ0ueUl0",
    "outputId": "69bf202e-7341-4dc9-ae47-f0dfe3662166"
   },
   "outputs": [
    {
     "data": {
      "text/plain": [
       "array([[0.2234717 , 0.16163201, 0.20019499, ..., 0.42314219, 0.39647356,\n",
       "        0.38653022],\n",
       "       [0.54778469, 0.53651845, 0.59138859, ..., 0.64188457, 0.57389185,\n",
       "        0.54498805],\n",
       "       [0.81151686, 0.75810207, 0.75106067, ..., 0.7945658 , 0.83358227,\n",
       "        0.91174531],\n",
       "       ...,\n",
       "       [0.96338652, 0.95140427, 0.94364447, ..., 0.76946144, 0.76684189,\n",
       "        0.77329558],\n",
       "       [0.78042029, 0.78092329, 0.77810149, ..., 0.79887116, 0.79436882,\n",
       "        0.79631411],\n",
       "       [0.87834256, 0.87097847, 0.86740449, ..., 0.79194238, 0.78574633,\n",
       "        0.7925877 ]])"
      ]
     },
     "execution_count": 56,
     "metadata": {
      "tags": []
     },
     "output_type": "execute_result"
    }
   ],
   "source": [
    "test_scaled=scaler.transform(test)\n",
    "test_scaled"
   ]
  },
  {
   "cell_type": "code",
   "execution_count": null,
   "metadata": {
    "colab": {
     "base_uri": "https://localhost:8080/"
    },
    "id": "sO9Z1IH7eUbx",
    "outputId": "376f0d49-cb2d-4a67-f4bf-69792783186e"
   },
   "outputs": [
    {
     "data": {
      "text/plain": [
       "(3141, 50, 1)"
      ]
     },
     "execution_count": 57,
     "metadata": {
      "tags": []
     },
     "output_type": "execute_result"
    }
   ],
   "source": [
    "test_features = np.reshape(test_scaled, (-1, test_scaled.shape[1], 1))\n",
    "test_features.shape"
   ]
  },
  {
   "cell_type": "markdown",
   "metadata": {
    "id": "dOIRX0irSTtP"
   },
   "source": [
    "Finally we can apply the trained model using the `.predict` module to the re-shaped test set and then we print the first 5 predictions"
   ]
  },
  {
   "cell_type": "code",
   "execution_count": null,
   "metadata": {
    "colab": {
     "base_uri": "https://localhost:8080/"
    },
    "id": "kysxPDIIeb4d",
    "outputId": "dc1db3eb-1241-4def-d2e4-f200aa8b9e76"
   },
   "outputs": [
    {
     "data": {
      "text/plain": [
       "array([[-0.6401291 ],\n",
       "       [ 0.37648785],\n",
       "       [ 1.634908  ],\n",
       "       ...,\n",
       "       [ 1.09753   ],\n",
       "       [ 0.9398639 ],\n",
       "       [ 1.1545457 ]], dtype=float32)"
      ]
     },
     "execution_count": 72,
     "metadata": {
      "tags": []
     },
     "output_type": "execute_result"
    }
   ],
   "source": [
    "predictions = model.predict(test_features)\n",
    "predictions"
   ]
  },
  {
   "cell_type": "markdown",
   "metadata": {
    "id": "F75wUgqVROI1"
   },
   "source": [
    "We save the output in a txt file so that it can be uploaded to the platform. "
   ]
  },
  {
   "cell_type": "code",
   "execution_count": null,
   "metadata": {
    "id": "KpgK0Sltecf0"
   },
   "outputs": [],
   "source": [
    "np.savetxt(\"submissions23.txt\", predictions,delimiter = \",\")"
   ]
  },
  {
   "cell_type": "markdown",
   "metadata": {
    "id": "zgWkG--PGi35"
   },
   "source": [
    "-----------------"
   ]
  }
 ],
 "metadata": {
  "accelerator": "GPU",
  "colab": {
   "collapsed_sections": [],
   "name": "Financial_Time_series_forecasting_challenge.ipynb",
   "provenance": []
  },
  "kernelspec": {
   "display_name": "Python 3",
   "language": "python",
   "name": "python3"
  },
  "language_info": {
   "codemirror_mode": {
    "name": "ipython",
    "version": 3
   },
   "file_extension": ".py",
   "mimetype": "text/x-python",
   "name": "python",
   "nbconvert_exporter": "python",
   "pygments_lexer": "ipython3",
   "version": "3.8.5"
  }
 },
 "nbformat": 4,
 "nbformat_minor": 5
}
